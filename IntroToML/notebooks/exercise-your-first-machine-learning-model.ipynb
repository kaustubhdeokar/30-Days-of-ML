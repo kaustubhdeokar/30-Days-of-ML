{
 "cells": [
  {
   "cell_type": "markdown",
   "id": "288068e3",
   "metadata": {
    "papermill": {
     "duration": 0.016995,
     "end_time": "2021-08-10T17:18:25.027166",
     "exception": false,
     "start_time": "2021-08-10T17:18:25.010171",
     "status": "completed"
    },
    "tags": []
   },
   "source": [
    "**This notebook is an exercise in the [Introduction to Machine Learning](https://www.kaggle.com/learn/intro-to-machine-learning) course.  You can reference the tutorial at [this link](https://www.kaggle.com/dansbecker/your-first-machine-learning-model).**\n",
    "\n",
    "---\n"
   ]
  },
  {
   "cell_type": "markdown",
   "id": "a82f796c",
   "metadata": {
    "papermill": {
     "duration": 0.014673,
     "end_time": "2021-08-10T17:18:25.057760",
     "exception": false,
     "start_time": "2021-08-10T17:18:25.043087",
     "status": "completed"
    },
    "tags": []
   },
   "source": [
    "## Recap\n",
    "So far, you have loaded your data and reviewed it with the following code. Run this cell to set up your coding environment where the previous step left off."
   ]
  },
  {
   "cell_type": "code",
   "execution_count": 1,
   "id": "7a962004",
   "metadata": {
    "execution": {
     "iopub.execute_input": "2021-08-10T17:18:25.092156Z",
     "iopub.status.busy": "2021-08-10T17:18:25.091018Z",
     "iopub.status.idle": "2021-08-10T17:18:26.331549Z",
     "shell.execute_reply": "2021-08-10T17:18:26.332127Z",
     "shell.execute_reply.started": "2021-08-10T17:11:31.844657Z"
    },
    "papermill": {
     "duration": 1.25989,
     "end_time": "2021-08-10T17:18:26.332416",
     "exception": false,
     "start_time": "2021-08-10T17:18:25.072526",
     "status": "completed"
    },
    "tags": []
   },
   "outputs": [
    {
     "name": "stdout",
     "output_type": "stream",
     "text": [
      "Setup Complete\n"
     ]
    }
   ],
   "source": [
    "# Code you have previously used to load data\n",
    "import pandas as pd\n",
    "\n",
    "# Path of the file to read\n",
    "iowa_file_path = '../input/home-data-for-ml-course/train.csv'\n",
    "\n",
    "home_data = pd.read_csv(iowa_file_path)\n",
    "\n",
    "# Set up code checking\n",
    "from learntools.core import binder\n",
    "binder.bind(globals())\n",
    "from learntools.machine_learning.ex3 import *\n",
    "\n",
    "print(\"Setup Complete\")"
   ]
  },
  {
   "cell_type": "markdown",
   "id": "96d6a0eb",
   "metadata": {
    "papermill": {
     "duration": 0.015982,
     "end_time": "2021-08-10T17:18:26.364804",
     "exception": false,
     "start_time": "2021-08-10T17:18:26.348822",
     "status": "completed"
    },
    "tags": []
   },
   "source": [
    "# Exercises\n",
    "\n",
    "## Step 1: Specify Prediction Target\n",
    "Select the target variable, which corresponds to the sales price. Save this to a new variable called `y`. You'll need to print a list of the columns to find the name of the column you need.\n"
   ]
  },
  {
   "cell_type": "code",
   "execution_count": 2,
   "id": "54fc90a1",
   "metadata": {
    "execution": {
     "iopub.execute_input": "2021-08-10T17:18:26.399883Z",
     "iopub.status.busy": "2021-08-10T17:18:26.398820Z",
     "iopub.status.idle": "2021-08-10T17:18:26.408080Z",
     "shell.execute_reply": "2021-08-10T17:18:26.408521Z",
     "shell.execute_reply.started": "2021-08-10T17:11:42.072792Z"
    },
    "papermill": {
     "duration": 0.027936,
     "end_time": "2021-08-10T17:18:26.408706",
     "exception": false,
     "start_time": "2021-08-10T17:18:26.380770",
     "status": "completed"
    },
    "tags": []
   },
   "outputs": [
    {
     "data": {
      "text/plain": [
       "Index(['Id', 'MSSubClass', 'MSZoning', 'LotFrontage', 'LotArea', 'Street',\n",
       "       'Alley', 'LotShape', 'LandContour', 'Utilities', 'LotConfig',\n",
       "       'LandSlope', 'Neighborhood', 'Condition1', 'Condition2', 'BldgType',\n",
       "       'HouseStyle', 'OverallQual', 'OverallCond', 'YearBuilt', 'YearRemodAdd',\n",
       "       'RoofStyle', 'RoofMatl', 'Exterior1st', 'Exterior2nd', 'MasVnrType',\n",
       "       'MasVnrArea', 'ExterQual', 'ExterCond', 'Foundation', 'BsmtQual',\n",
       "       'BsmtCond', 'BsmtExposure', 'BsmtFinType1', 'BsmtFinSF1',\n",
       "       'BsmtFinType2', 'BsmtFinSF2', 'BsmtUnfSF', 'TotalBsmtSF', 'Heating',\n",
       "       'HeatingQC', 'CentralAir', 'Electrical', '1stFlrSF', '2ndFlrSF',\n",
       "       'LowQualFinSF', 'GrLivArea', 'BsmtFullBath', 'BsmtHalfBath', 'FullBath',\n",
       "       'HalfBath', 'BedroomAbvGr', 'KitchenAbvGr', 'KitchenQual',\n",
       "       'TotRmsAbvGrd', 'Functional', 'Fireplaces', 'FireplaceQu', 'GarageType',\n",
       "       'GarageYrBlt', 'GarageFinish', 'GarageCars', 'GarageArea', 'GarageQual',\n",
       "       'GarageCond', 'PavedDrive', 'WoodDeckSF', 'OpenPorchSF',\n",
       "       'EnclosedPorch', '3SsnPorch', 'ScreenPorch', 'PoolArea', 'PoolQC',\n",
       "       'Fence', 'MiscFeature', 'MiscVal', 'MoSold', 'YrSold', 'SaleType',\n",
       "       'SaleCondition', 'SalePrice'],\n",
       "      dtype='object')"
      ]
     },
     "execution_count": 2,
     "metadata": {},
     "output_type": "execute_result"
    }
   ],
   "source": [
    "# print the list of columns in the dataset to find the name of the prediction target\n",
    "home_data.columns"
   ]
  },
  {
   "cell_type": "code",
   "execution_count": 3,
   "id": "7c7491cf",
   "metadata": {
    "execution": {
     "iopub.execute_input": "2021-08-10T17:18:26.444524Z",
     "iopub.status.busy": "2021-08-10T17:18:26.443588Z",
     "iopub.status.idle": "2021-08-10T17:18:26.465538Z",
     "shell.execute_reply": "2021-08-10T17:18:26.466061Z",
     "shell.execute_reply.started": "2021-08-10T17:12:18.661798Z"
    },
    "papermill": {
     "duration": 0.041043,
     "end_time": "2021-08-10T17:18:26.466230",
     "exception": false,
     "start_time": "2021-08-10T17:18:26.425187",
     "status": "completed"
    },
    "tags": []
   },
   "outputs": [
    {
     "data": {
      "application/javascript": [
       "parent.postMessage({\"jupyterEvent\": \"custom.exercise_interaction\", \"data\": {\"outcomeType\": 1, \"valueTowardsCompletion\": 0.25, \"interactionType\": 1, \"questionType\": 2, \"questionId\": \"1_SetTarget\", \"learnToolsVersion\": \"0.3.4\", \"failureMessage\": \"\", \"exceptionClass\": \"\", \"trace\": \"\"}}, \"*\")"
      ],
      "text/plain": [
       "<IPython.core.display.Javascript object>"
      ]
     },
     "metadata": {},
     "output_type": "display_data"
    },
    {
     "data": {
      "text/markdown": [
       "<span style=\"color:#33cc33\">Correct</span>"
      ],
      "text/plain": [
       "Correct"
      ]
     },
     "metadata": {},
     "output_type": "display_data"
    }
   ],
   "source": [
    "y = home_data.SalePrice\n",
    "\n",
    "# Check your answer\n",
    "step_1.check()"
   ]
  },
  {
   "cell_type": "code",
   "execution_count": 4,
   "id": "b7483271",
   "metadata": {
    "collapsed": true,
    "execution": {
     "iopub.execute_input": "2021-08-10T17:18:26.504347Z",
     "iopub.status.busy": "2021-08-10T17:18:26.503436Z",
     "iopub.status.idle": "2021-08-10T17:18:26.506801Z",
     "shell.execute_reply": "2021-08-10T17:18:26.507288Z"
    },
    "jupyter": {
     "outputs_hidden": true
    },
    "papermill": {
     "duration": 0.024433,
     "end_time": "2021-08-10T17:18:26.507465",
     "exception": false,
     "start_time": "2021-08-10T17:18:26.483032",
     "status": "completed"
    },
    "tags": []
   },
   "outputs": [],
   "source": [
    "# The lines below will show you a hint or the solution.\n",
    "# step_1.hint() \n",
    "# step_1.solution()"
   ]
  },
  {
   "cell_type": "markdown",
   "id": "5f9e4c3e",
   "metadata": {
    "papermill": {
     "duration": 0.016787,
     "end_time": "2021-08-10T17:18:26.541453",
     "exception": false,
     "start_time": "2021-08-10T17:18:26.524666",
     "status": "completed"
    },
    "tags": []
   },
   "source": [
    "## Step 2: Create X\n",
    "Now you will create a DataFrame called `X` holding the predictive features.\n",
    "\n",
    "Since you want only some columns from the original data, you'll first create a list with the names of the columns you want in `X`.\n",
    "\n",
    "You'll use just the following columns in the list (you can copy and paste the whole list to save some typing, though you'll still need to add quotes):\n",
    "    * LotArea\n",
    "    * YearBuilt\n",
    "    * 1stFlrSF\n",
    "    * 2ndFlrSF\n",
    "    * FullBath\n",
    "    * BedroomAbvGr\n",
    "    * TotRmsAbvGrd\n",
    "\n",
    "After you've created that list of features, use it to create the DataFrame that you'll use to fit the model."
   ]
  },
  {
   "cell_type": "code",
   "execution_count": 5,
   "id": "18eec794",
   "metadata": {
    "execution": {
     "iopub.execute_input": "2021-08-10T17:18:26.584994Z",
     "iopub.status.busy": "2021-08-10T17:18:26.584249Z",
     "iopub.status.idle": "2021-08-10T17:18:26.588457Z",
     "shell.execute_reply": "2021-08-10T17:18:26.588961Z",
     "shell.execute_reply.started": "2021-08-10T17:14:15.419882Z"
    },
    "papermill": {
     "duration": 0.03013,
     "end_time": "2021-08-10T17:18:26.589133",
     "exception": false,
     "start_time": "2021-08-10T17:18:26.559003",
     "status": "completed"
    },
    "tags": []
   },
   "outputs": [
    {
     "data": {
      "application/javascript": [
       "parent.postMessage({\"jupyterEvent\": \"custom.exercise_interaction\", \"data\": {\"outcomeType\": 1, \"valueTowardsCompletion\": 0.25, \"interactionType\": 1, \"questionType\": 2, \"questionId\": \"2_SelectPredictionData\", \"learnToolsVersion\": \"0.3.4\", \"failureMessage\": \"\", \"exceptionClass\": \"\", \"trace\": \"\"}}, \"*\")"
      ],
      "text/plain": [
       "<IPython.core.display.Javascript object>"
      ]
     },
     "metadata": {},
     "output_type": "display_data"
    },
    {
     "data": {
      "text/markdown": [
       "<span style=\"color:#33cc33\">Correct</span>"
      ],
      "text/plain": [
       "Correct"
      ]
     },
     "metadata": {},
     "output_type": "display_data"
    }
   ],
   "source": [
    "# Create the list of features below\n",
    "feature_names = ['LotArea','YearBuilt','1stFlrSF','2ndFlrSF','FullBath','BedroomAbvGr','TotRmsAbvGrd']\n",
    "\n",
    "# Select data corresponding to features in feature_names\n",
    "X = home_data[feature_names]\n",
    "\n",
    "# Check your answer\n",
    "step_2.check()"
   ]
  },
  {
   "cell_type": "code",
   "execution_count": 6,
   "id": "f2306d86",
   "metadata": {
    "collapsed": true,
    "execution": {
     "iopub.execute_input": "2021-08-10T17:18:26.630544Z",
     "iopub.status.busy": "2021-08-10T17:18:26.629864Z",
     "iopub.status.idle": "2021-08-10T17:18:26.632818Z",
     "shell.execute_reply": "2021-08-10T17:18:26.633320Z"
    },
    "jupyter": {
     "outputs_hidden": true
    },
    "papermill": {
     "duration": 0.025372,
     "end_time": "2021-08-10T17:18:26.633491",
     "exception": false,
     "start_time": "2021-08-10T17:18:26.608119",
     "status": "completed"
    },
    "tags": []
   },
   "outputs": [],
   "source": [
    "# step_2.hint()\n",
    "# step_2.solution()"
   ]
  },
  {
   "cell_type": "markdown",
   "id": "8fff8cec",
   "metadata": {
    "papermill": {
     "duration": 0.018396,
     "end_time": "2021-08-10T17:18:26.669804",
     "exception": false,
     "start_time": "2021-08-10T17:18:26.651408",
     "status": "completed"
    },
    "tags": []
   },
   "source": [
    "## Review Data\n",
    "Before building a model, take a quick look at **X** to verify it looks sensible"
   ]
  },
  {
   "cell_type": "code",
   "execution_count": 7,
   "id": "67fb8f43",
   "metadata": {
    "execution": {
     "iopub.execute_input": "2021-08-10T17:18:26.709818Z",
     "iopub.status.busy": "2021-08-10T17:18:26.709132Z",
     "iopub.status.idle": "2021-08-10T17:18:26.726665Z",
     "shell.execute_reply": "2021-08-10T17:18:26.727167Z",
     "shell.execute_reply.started": "2021-08-10T17:15:06.227535Z"
    },
    "papermill": {
     "duration": 0.039211,
     "end_time": "2021-08-10T17:18:26.727333",
     "exception": false,
     "start_time": "2021-08-10T17:18:26.688122",
     "status": "completed"
    },
    "tags": []
   },
   "outputs": [
    {
     "data": {
      "text/html": [
       "<div>\n",
       "<style scoped>\n",
       "    .dataframe tbody tr th:only-of-type {\n",
       "        vertical-align: middle;\n",
       "    }\n",
       "\n",
       "    .dataframe tbody tr th {\n",
       "        vertical-align: top;\n",
       "    }\n",
       "\n",
       "    .dataframe thead th {\n",
       "        text-align: right;\n",
       "    }\n",
       "</style>\n",
       "<table border=\"1\" class=\"dataframe\">\n",
       "  <thead>\n",
       "    <tr style=\"text-align: right;\">\n",
       "      <th></th>\n",
       "      <th>LotArea</th>\n",
       "      <th>YearBuilt</th>\n",
       "      <th>1stFlrSF</th>\n",
       "      <th>2ndFlrSF</th>\n",
       "      <th>FullBath</th>\n",
       "      <th>BedroomAbvGr</th>\n",
       "      <th>TotRmsAbvGrd</th>\n",
       "    </tr>\n",
       "  </thead>\n",
       "  <tbody>\n",
       "    <tr>\n",
       "      <th>0</th>\n",
       "      <td>8450</td>\n",
       "      <td>2003</td>\n",
       "      <td>856</td>\n",
       "      <td>854</td>\n",
       "      <td>2</td>\n",
       "      <td>3</td>\n",
       "      <td>8</td>\n",
       "    </tr>\n",
       "    <tr>\n",
       "      <th>1</th>\n",
       "      <td>9600</td>\n",
       "      <td>1976</td>\n",
       "      <td>1262</td>\n",
       "      <td>0</td>\n",
       "      <td>2</td>\n",
       "      <td>3</td>\n",
       "      <td>6</td>\n",
       "    </tr>\n",
       "    <tr>\n",
       "      <th>2</th>\n",
       "      <td>11250</td>\n",
       "      <td>2001</td>\n",
       "      <td>920</td>\n",
       "      <td>866</td>\n",
       "      <td>2</td>\n",
       "      <td>3</td>\n",
       "      <td>6</td>\n",
       "    </tr>\n",
       "    <tr>\n",
       "      <th>3</th>\n",
       "      <td>9550</td>\n",
       "      <td>1915</td>\n",
       "      <td>961</td>\n",
       "      <td>756</td>\n",
       "      <td>1</td>\n",
       "      <td>3</td>\n",
       "      <td>7</td>\n",
       "    </tr>\n",
       "    <tr>\n",
       "      <th>4</th>\n",
       "      <td>14260</td>\n",
       "      <td>2000</td>\n",
       "      <td>1145</td>\n",
       "      <td>1053</td>\n",
       "      <td>2</td>\n",
       "      <td>4</td>\n",
       "      <td>9</td>\n",
       "    </tr>\n",
       "  </tbody>\n",
       "</table>\n",
       "</div>"
      ],
      "text/plain": [
       "   LotArea  YearBuilt  1stFlrSF  2ndFlrSF  FullBath  BedroomAbvGr  \\\n",
       "0     8450       2003       856       854         2             3   \n",
       "1     9600       1976      1262         0         2             3   \n",
       "2    11250       2001       920       866         2             3   \n",
       "3     9550       1915       961       756         1             3   \n",
       "4    14260       2000      1145      1053         2             4   \n",
       "\n",
       "   TotRmsAbvGrd  \n",
       "0             8  \n",
       "1             6  \n",
       "2             6  \n",
       "3             7  \n",
       "4             9  "
      ]
     },
     "execution_count": 7,
     "metadata": {},
     "output_type": "execute_result"
    }
   ],
   "source": [
    "# Review data\n",
    "# print description or statistics from X\n",
    "#print(_)\n",
    "X\n",
    "# print the top few lines\n",
    "#print(_)\n",
    "X.head()\n"
   ]
  },
  {
   "cell_type": "markdown",
   "id": "a9d23c00",
   "metadata": {
    "papermill": {
     "duration": 0.019115,
     "end_time": "2021-08-10T17:18:26.765241",
     "exception": false,
     "start_time": "2021-08-10T17:18:26.746126",
     "status": "completed"
    },
    "tags": []
   },
   "source": [
    "## Step 3: Specify and Fit Model\n",
    "Create a `DecisionTreeRegressor` and save it iowa_model. Ensure you've done the relevant import from sklearn to run this command.\n",
    "\n",
    "Then fit the model you just created using the data in `X` and `y` that you saved above."
   ]
  },
  {
   "cell_type": "code",
   "execution_count": 8,
   "id": "427bf8d8",
   "metadata": {
    "execution": {
     "iopub.execute_input": "2021-08-10T17:18:26.822797Z",
     "iopub.status.busy": "2021-08-10T17:18:26.821770Z",
     "iopub.status.idle": "2021-08-10T17:18:26.845226Z",
     "shell.execute_reply": "2021-08-10T17:18:26.845959Z",
     "shell.execute_reply.started": "2021-08-10T17:16:03.092268Z"
    },
    "papermill": {
     "duration": 0.058758,
     "end_time": "2021-08-10T17:18:26.846356",
     "exception": false,
     "start_time": "2021-08-10T17:18:26.787598",
     "status": "completed"
    },
    "tags": []
   },
   "outputs": [
    {
     "data": {
      "application/javascript": [
       "parent.postMessage({\"jupyterEvent\": \"custom.exercise_interaction\", \"data\": {\"outcomeType\": 1, \"valueTowardsCompletion\": 0.25, \"interactionType\": 1, \"questionType\": 2, \"questionId\": \"3_CreateModel\", \"learnToolsVersion\": \"0.3.4\", \"failureMessage\": \"\", \"exceptionClass\": \"\", \"trace\": \"\"}}, \"*\")"
      ],
      "text/plain": [
       "<IPython.core.display.Javascript object>"
      ]
     },
     "metadata": {},
     "output_type": "display_data"
    },
    {
     "data": {
      "text/markdown": [
       "<span style=\"color:#33cc33\">Correct</span>"
      ],
      "text/plain": [
       "Correct"
      ]
     },
     "metadata": {},
     "output_type": "display_data"
    }
   ],
   "source": [
    "from sklearn.tree import DecisionTreeRegressor\n",
    "#specify the model. \n",
    "#For model reproducibility, set a numeric value for random_state when specifying the model\n",
    "iowa_model = DecisionTreeRegressor(random_state=1)\n",
    "\n",
    "# Fit the model\n",
    "iowa_model.fit(X,y)\n",
    "\n",
    "# Check your answer\n",
    "step_3.check()"
   ]
  },
  {
   "cell_type": "code",
   "execution_count": 9,
   "id": "ca4218b2",
   "metadata": {
    "collapsed": true,
    "execution": {
     "iopub.execute_input": "2021-08-10T17:18:26.903253Z",
     "iopub.status.busy": "2021-08-10T17:18:26.902578Z",
     "iopub.status.idle": "2021-08-10T17:18:26.905795Z",
     "shell.execute_reply": "2021-08-10T17:18:26.906355Z"
    },
    "jupyter": {
     "outputs_hidden": true
    },
    "papermill": {
     "duration": 0.034449,
     "end_time": "2021-08-10T17:18:26.906530",
     "exception": false,
     "start_time": "2021-08-10T17:18:26.872081",
     "status": "completed"
    },
    "tags": []
   },
   "outputs": [],
   "source": [
    "# step_3.hint()\n",
    "# step_3.solution()"
   ]
  },
  {
   "cell_type": "markdown",
   "id": "4ac0cc28",
   "metadata": {
    "papermill": {
     "duration": 0.020611,
     "end_time": "2021-08-10T17:18:26.946723",
     "exception": false,
     "start_time": "2021-08-10T17:18:26.926112",
     "status": "completed"
    },
    "tags": []
   },
   "source": [
    "## Step 4: Make Predictions\n",
    "Make predictions with the model's `predict` command using `X` as the data. Save the results to a variable called `predictions`."
   ]
  },
  {
   "cell_type": "code",
   "execution_count": 10,
   "id": "5aead9b1",
   "metadata": {
    "execution": {
     "iopub.execute_input": "2021-08-10T17:18:26.989991Z",
     "iopub.status.busy": "2021-08-10T17:18:26.989347Z",
     "iopub.status.idle": "2021-08-10T17:18:27.003965Z",
     "shell.execute_reply": "2021-08-10T17:18:27.003134Z",
     "shell.execute_reply.started": "2021-08-10T17:16:29.270143Z"
    },
    "papermill": {
     "duration": 0.037391,
     "end_time": "2021-08-10T17:18:27.004137",
     "exception": false,
     "start_time": "2021-08-10T17:18:26.966746",
     "status": "completed"
    },
    "tags": []
   },
   "outputs": [
    {
     "name": "stdout",
     "output_type": "stream",
     "text": [
      "[208500. 181500. 223500. ... 266500. 142125. 147500.]\n"
     ]
    },
    {
     "data": {
      "application/javascript": [
       "parent.postMessage({\"jupyterEvent\": \"custom.exercise_interaction\", \"data\": {\"outcomeType\": 1, \"valueTowardsCompletion\": 0.25, \"interactionType\": 1, \"questionType\": 2, \"questionId\": \"4_MakePredictions\", \"learnToolsVersion\": \"0.3.4\", \"failureMessage\": \"\", \"exceptionClass\": \"\", \"trace\": \"\"}}, \"*\")"
      ],
      "text/plain": [
       "<IPython.core.display.Javascript object>"
      ]
     },
     "metadata": {},
     "output_type": "display_data"
    },
    {
     "data": {
      "text/markdown": [
       "<span style=\"color:#33cc33\">Correct</span>"
      ],
      "text/plain": [
       "Correct"
      ]
     },
     "metadata": {},
     "output_type": "display_data"
    }
   ],
   "source": [
    "predictions = iowa_model.predict(X)\n",
    "print(predictions)\n",
    "\n",
    "# Check your answer\n",
    "step_4.check()"
   ]
  },
  {
   "cell_type": "code",
   "execution_count": 11,
   "id": "8b053ab0",
   "metadata": {
    "collapsed": true,
    "execution": {
     "iopub.execute_input": "2021-08-10T17:18:27.053578Z",
     "iopub.status.busy": "2021-08-10T17:18:27.052516Z",
     "iopub.status.idle": "2021-08-10T17:18:27.055179Z",
     "shell.execute_reply": "2021-08-10T17:18:27.055622Z"
    },
    "jupyter": {
     "outputs_hidden": true
    },
    "papermill": {
     "duration": 0.029369,
     "end_time": "2021-08-10T17:18:27.055806",
     "exception": false,
     "start_time": "2021-08-10T17:18:27.026437",
     "status": "completed"
    },
    "tags": []
   },
   "outputs": [],
   "source": [
    "# step_4.hint()\n",
    "# step_4.solution()"
   ]
  },
  {
   "cell_type": "markdown",
   "id": "f63a0340",
   "metadata": {
    "papermill": {
     "duration": 0.020968,
     "end_time": "2021-08-10T17:18:27.098518",
     "exception": false,
     "start_time": "2021-08-10T17:18:27.077550",
     "status": "completed"
    },
    "tags": []
   },
   "source": [
    "## Think About Your Results\n",
    "\n",
    "Use the `head` method to compare the top few predictions to the actual home values (in `y`) for those same homes. Anything surprising?\n"
   ]
  },
  {
   "cell_type": "code",
   "execution_count": 12,
   "id": "157afb67",
   "metadata": {
    "execution": {
     "iopub.execute_input": "2021-08-10T17:18:27.147251Z",
     "iopub.status.busy": "2021-08-10T17:18:27.146260Z",
     "iopub.status.idle": "2021-08-10T17:18:27.152105Z",
     "shell.execute_reply": "2021-08-10T17:18:27.152544Z",
     "shell.execute_reply.started": "2021-08-10T17:17:48.527089Z"
    },
    "papermill": {
     "duration": 0.03335,
     "end_time": "2021-08-10T17:18:27.152741",
     "exception": false,
     "start_time": "2021-08-10T17:18:27.119391",
     "status": "completed"
    },
    "tags": []
   },
   "outputs": [
    {
     "name": "stdout",
     "output_type": "stream",
     "text": [
      "208500.0 208500\n",
      "181500.0 181500\n",
      "223500.0 223500\n",
      "140000.0 140000\n",
      "250000.0 250000\n",
      "143000.0 143000\n",
      "307000.0 307000\n",
      "200000.0 200000\n",
      "129900.0 129900\n",
      "118000.0 118000\n"
     ]
    }
   ],
   "source": [
    "# You can write code in this cell\n",
    "for i in range(10):\n",
    "    print(predictions[i],y[i])"
   ]
  },
  {
   "cell_type": "markdown",
   "id": "202348e7",
   "metadata": {
    "papermill": {
     "duration": 0.022383,
     "end_time": "2021-08-10T17:18:27.196350",
     "exception": false,
     "start_time": "2021-08-10T17:18:27.173967",
     "status": "completed"
    },
    "tags": []
   },
   "source": [
    "It's natural to ask how accurate the model's predictions will be and how you can improve that. That will be you're next step.\n",
    "\n",
    "# Keep Going\n",
    "\n",
    "You are ready for **[Model Validation](https://www.kaggle.com/dansbecker/model-validation).**\n"
   ]
  },
  {
   "cell_type": "markdown",
   "id": "00464550",
   "metadata": {
    "papermill": {
     "duration": 0.022845,
     "end_time": "2021-08-10T17:18:27.240960",
     "exception": false,
     "start_time": "2021-08-10T17:18:27.218115",
     "status": "completed"
    },
    "tags": []
   },
   "source": [
    "---\n",
    "\n",
    "\n",
    "\n",
    "\n",
    "*Have questions or comments? Visit the [Learn Discussion forum](https://www.kaggle.com/learn-forum/161285) to chat with other Learners.*"
   ]
  }
 ],
 "metadata": {
  "kernelspec": {
   "display_name": "Python 3",
   "language": "python",
   "name": "python3"
  },
  "language_info": {
   "codemirror_mode": {
    "name": "ipython",
    "version": 3
   },
   "file_extension": ".py",
   "mimetype": "text/x-python",
   "name": "python",
   "nbconvert_exporter": "python",
   "pygments_lexer": "ipython3",
   "version": "3.7.10"
  },
  "papermill": {
   "default_parameters": {},
   "duration": 11.765043,
   "end_time": "2021-08-10T17:18:28.560211",
   "environment_variables": {},
   "exception": null,
   "input_path": "__notebook__.ipynb",
   "output_path": "__notebook__.ipynb",
   "parameters": {},
   "start_time": "2021-08-10T17:18:16.795168",
   "version": "2.3.3"
  }
 },
 "nbformat": 4,
 "nbformat_minor": 5
}
