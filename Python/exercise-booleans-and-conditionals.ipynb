{
 "cells": [
  {
   "cell_type": "markdown",
   "id": "f72a1701",
   "metadata": {
    "papermill": {
     "duration": 0.028427,
     "end_time": "2021-08-04T18:39:09.163797",
     "exception": false,
     "start_time": "2021-08-04T18:39:09.135370",
     "status": "completed"
    },
    "tags": []
   },
   "source": [
    "**This notebook is an exercise in the [Python](https://www.kaggle.com/learn/python) course.  You can reference the tutorial at [this link](https://www.kaggle.com/colinmorris/booleans-and-conditionals).**\n",
    "\n",
    "---\n"
   ]
  },
  {
   "cell_type": "markdown",
   "id": "6a262de1",
   "metadata": {
    "papermill": {
     "duration": 0.027056,
     "end_time": "2021-08-04T18:39:09.220330",
     "exception": false,
     "start_time": "2021-08-04T18:39:09.193274",
     "status": "completed"
    },
    "tags": []
   },
   "source": [
    "In this exercise, you'll put to work what you have learned about booleans and conditionals.\n",
    "\n",
    "To get started, **run the setup code below** before writing your own code (and if you leave this notebook and come back later, don't forget to run the setup code again)."
   ]
  },
  {
   "cell_type": "code",
   "execution_count": 1,
   "id": "749c4fb8",
   "metadata": {
    "execution": {
     "iopub.execute_input": "2021-08-04T18:39:09.289813Z",
     "iopub.status.busy": "2021-08-04T18:39:09.288072Z",
     "iopub.status.idle": "2021-08-04T18:39:09.446918Z",
     "shell.execute_reply": "2021-08-04T18:39:09.447461Z",
     "shell.execute_reply.started": "2021-08-04T18:24:04.952320Z"
    },
    "papermill": {
     "duration": 0.198691,
     "end_time": "2021-08-04T18:39:09.447753",
     "exception": false,
     "start_time": "2021-08-04T18:39:09.249062",
     "status": "completed"
    },
    "tags": []
   },
   "outputs": [
    {
     "name": "stdout",
     "output_type": "stream",
     "text": [
      "Setup complete.\n"
     ]
    }
   ],
   "source": [
    "from learntools.core import binder; binder.bind(globals())\n",
    "from learntools.python.ex3 import *\n",
    "print('Setup complete.')"
   ]
  },
  {
   "cell_type": "markdown",
   "id": "f8be528e",
   "metadata": {
    "papermill": {
     "duration": 0.027232,
     "end_time": "2021-08-04T18:39:09.502563",
     "exception": false,
     "start_time": "2021-08-04T18:39:09.475331",
     "status": "completed"
    },
    "tags": []
   },
   "source": [
    "# 1.\n",
    "\n",
    "Many programming languages have [`sign`](https://en.wikipedia.org/wiki/Sign_function) available as a built-in function. Python doesn't, but we can define our own!\n",
    "\n",
    "In the cell below, define a function called `sign` which takes a numerical argument and returns -1 if it's negative, 1 if it's positive, and 0 if it's 0."
   ]
  },
  {
   "cell_type": "code",
   "execution_count": 2,
   "id": "bcb105eb",
   "metadata": {
    "execution": {
     "iopub.execute_input": "2021-08-04T18:39:09.565645Z",
     "iopub.status.busy": "2021-08-04T18:39:09.564796Z",
     "iopub.status.idle": "2021-08-04T18:39:09.569371Z",
     "shell.execute_reply": "2021-08-04T18:39:09.569801Z",
     "shell.execute_reply.started": "2021-08-04T18:24:22.280221Z"
    },
    "papermill": {
     "duration": 0.040243,
     "end_time": "2021-08-04T18:39:09.569972",
     "exception": false,
     "start_time": "2021-08-04T18:39:09.529729",
     "status": "completed"
    },
    "tags": []
   },
   "outputs": [
    {
     "data": {
      "application/javascript": [
       "parent.postMessage({\"jupyterEvent\": \"custom.exercise_interaction\", \"data\": {\"outcomeType\": 1, \"valueTowardsCompletion\": 0.2, \"interactionType\": 1, \"questionType\": 2, \"questionId\": \"1_SignFunctionProblem\", \"learnToolsVersion\": \"0.3.4\", \"failureMessage\": \"\", \"exceptionClass\": \"\", \"trace\": \"\"}}, \"*\")"
      ],
      "text/plain": [
       "<IPython.core.display.Javascript object>"
      ]
     },
     "metadata": {},
     "output_type": "display_data"
    },
    {
     "data": {
      "text/markdown": [
       "<span style=\"color:#33cc33\">Correct</span>"
      ],
      "text/plain": [
       "Correct"
      ]
     },
     "metadata": {},
     "output_type": "display_data"
    }
   ],
   "source": [
    "def sign(num):\n",
    "    if(num<0):\n",
    "        return -1\n",
    "    elif(num>0):\n",
    "        return 1\n",
    "    else:\n",
    "        return 0\n",
    "\n",
    "# Check your answer\n",
    "q1.check()"
   ]
  },
  {
   "cell_type": "code",
   "execution_count": 3,
   "id": "1fd9a1cc",
   "metadata": {
    "execution": {
     "iopub.execute_input": "2021-08-04T18:39:09.631054Z",
     "iopub.status.busy": "2021-08-04T18:39:09.630461Z",
     "iopub.status.idle": "2021-08-04T18:39:09.633659Z",
     "shell.execute_reply": "2021-08-04T18:39:09.634121Z"
    },
    "papermill": {
     "duration": 0.035672,
     "end_time": "2021-08-04T18:39:09.634286",
     "exception": false,
     "start_time": "2021-08-04T18:39:09.598614",
     "status": "completed"
    },
    "tags": []
   },
   "outputs": [],
   "source": [
    "#q1.solution()"
   ]
  },
  {
   "cell_type": "markdown",
   "id": "825f8698",
   "metadata": {
    "papermill": {
     "duration": 0.028246,
     "end_time": "2021-08-04T18:39:09.691847",
     "exception": false,
     "start_time": "2021-08-04T18:39:09.663601",
     "status": "completed"
    },
    "tags": []
   },
   "source": [
    "# 2.\n",
    "\n",
    "We've decided to add \"logging\" to our `to_smash` function from the previous exercise."
   ]
  },
  {
   "cell_type": "code",
   "execution_count": 4,
   "id": "4df2a7d0",
   "metadata": {
    "execution": {
     "iopub.execute_input": "2021-08-04T18:39:09.752729Z",
     "iopub.status.busy": "2021-08-04T18:39:09.752063Z",
     "iopub.status.idle": "2021-08-04T18:39:09.761298Z",
     "shell.execute_reply": "2021-08-04T18:39:09.761883Z",
     "shell.execute_reply.started": "2021-08-04T18:24:37.060673Z"
    },
    "papermill": {
     "duration": 0.041561,
     "end_time": "2021-08-04T18:39:09.762052",
     "exception": false,
     "start_time": "2021-08-04T18:39:09.720491",
     "status": "completed"
    },
    "tags": []
   },
   "outputs": [
    {
     "name": "stdout",
     "output_type": "stream",
     "text": [
      "Splitting 91 candies\n"
     ]
    },
    {
     "data": {
      "text/plain": [
       "1"
      ]
     },
     "execution_count": 4,
     "metadata": {},
     "output_type": "execute_result"
    }
   ],
   "source": [
    "def to_smash(total_candies):\n",
    "    \"\"\"Return the number of leftover candies that must be smashed after distributing\n",
    "    the given number of candies evenly between 3 friends.\n",
    "    \n",
    "    >>> to_smash(91)\n",
    "    1\n",
    "    \"\"\"\n",
    "    print(\"Splitting\", total_candies, \"candies\")\n",
    "    return total_candies % 3\n",
    "\n",
    "to_smash(91)"
   ]
  },
  {
   "cell_type": "markdown",
   "id": "6003c991",
   "metadata": {
    "papermill": {
     "duration": 0.031031,
     "end_time": "2021-08-04T18:39:09.829683",
     "exception": false,
     "start_time": "2021-08-04T18:39:09.798652",
     "status": "completed"
    },
    "tags": []
   },
   "source": [
    "What happens if we call it with `total_candies = 1`?"
   ]
  },
  {
   "cell_type": "code",
   "execution_count": 5,
   "id": "5d2fc4bc",
   "metadata": {
    "execution": {
     "iopub.execute_input": "2021-08-04T18:39:09.894110Z",
     "iopub.status.busy": "2021-08-04T18:39:09.893424Z",
     "iopub.status.idle": "2021-08-04T18:39:09.898847Z",
     "shell.execute_reply": "2021-08-04T18:39:09.899282Z",
     "shell.execute_reply.started": "2021-08-04T18:24:45.109100Z"
    },
    "papermill": {
     "duration": 0.040252,
     "end_time": "2021-08-04T18:39:09.899466",
     "exception": false,
     "start_time": "2021-08-04T18:39:09.859214",
     "status": "completed"
    },
    "tags": []
   },
   "outputs": [
    {
     "name": "stdout",
     "output_type": "stream",
     "text": [
      "Splitting 1 candies\n"
     ]
    },
    {
     "data": {
      "text/plain": [
       "1"
      ]
     },
     "execution_count": 5,
     "metadata": {},
     "output_type": "execute_result"
    }
   ],
   "source": [
    "to_smash(1)"
   ]
  },
  {
   "cell_type": "markdown",
   "id": "7ae1cdb3",
   "metadata": {
    "papermill": {
     "duration": 0.030123,
     "end_time": "2021-08-04T18:39:09.959267",
     "exception": false,
     "start_time": "2021-08-04T18:39:09.929144",
     "status": "completed"
    },
    "tags": []
   },
   "source": [
    "That isn't great grammar!\n",
    "\n",
    "Modify the definition in the cell below to correct the grammar of our print statement. (If there's only one candy, we should use the singular \"candy\" instead of the plural \"candies\")"
   ]
  },
  {
   "cell_type": "code",
   "execution_count": 6,
   "id": "2283f6a1",
   "metadata": {
    "execution": {
     "iopub.execute_input": "2021-08-04T18:39:10.022581Z",
     "iopub.status.busy": "2021-08-04T18:39:10.021593Z",
     "iopub.status.idle": "2021-08-04T18:39:10.031239Z",
     "shell.execute_reply": "2021-08-04T18:39:10.030708Z",
     "shell.execute_reply.started": "2021-08-04T18:25:25.058911Z"
    },
    "papermill": {
     "duration": 0.042272,
     "end_time": "2021-08-04T18:39:10.031394",
     "exception": false,
     "start_time": "2021-08-04T18:39:09.989122",
     "status": "completed"
    },
    "tags": []
   },
   "outputs": [
    {
     "name": "stdout",
     "output_type": "stream",
     "text": [
      "Splitting 91 candies\n",
      "Splitting 1 candy\n"
     ]
    },
    {
     "data": {
      "text/plain": [
       "1"
      ]
     },
     "execution_count": 6,
     "metadata": {},
     "output_type": "execute_result"
    }
   ],
   "source": [
    "def to_smash(total_candies):\n",
    "    \"\"\"Return the number of leftover candies that must be smashed after distributing\n",
    "    the given number of candies evenly between 3 friends.\n",
    "    \n",
    "    >>> to_smash(91)\n",
    "    1\n",
    "    \"\"\"\n",
    "    candy = 'candies'\n",
    "    if(total_candies==1):\n",
    "        candy = 'candy'\n",
    "    print(\"Splitting\", total_candies, candy)\n",
    "    return total_candies % 3\n",
    "\n",
    "to_smash(91)\n",
    "to_smash(1)"
   ]
  },
  {
   "cell_type": "markdown",
   "id": "6a25b469",
   "metadata": {
    "papermill": {
     "duration": 0.030802,
     "end_time": "2021-08-04T18:39:10.092823",
     "exception": false,
     "start_time": "2021-08-04T18:39:10.062021",
     "status": "completed"
    },
    "tags": []
   },
   "source": [
    "To get credit for completing this problem, and to see the official answer, run the code cell below."
   ]
  },
  {
   "cell_type": "code",
   "execution_count": 7,
   "id": "4bdb20e2",
   "metadata": {
    "execution": {
     "iopub.execute_input": "2021-08-04T18:39:10.157588Z",
     "iopub.status.busy": "2021-08-04T18:39:10.156902Z",
     "iopub.status.idle": "2021-08-04T18:39:10.164200Z",
     "shell.execute_reply": "2021-08-04T18:39:10.163585Z",
     "shell.execute_reply.started": "2021-08-04T18:25:29.986100Z"
    },
    "papermill": {
     "duration": 0.041113,
     "end_time": "2021-08-04T18:39:10.164368",
     "exception": false,
     "start_time": "2021-08-04T18:39:10.123255",
     "status": "completed"
    },
    "tags": []
   },
   "outputs": [
    {
     "data": {
      "application/javascript": [
       "parent.postMessage({\"jupyterEvent\": \"custom.exercise_interaction\", \"data\": {\"interactionType\": 3, \"questionType\": 4, \"questionId\": \"2_PluralizationProblem\", \"learnToolsVersion\": \"0.3.4\", \"valueTowardsCompletion\": 0.0, \"failureMessage\": \"\", \"exceptionClass\": \"\", \"trace\": \"\", \"outcomeType\": 4}}, \"*\")"
      ],
      "text/plain": [
       "<IPython.core.display.Javascript object>"
      ]
     },
     "metadata": {},
     "output_type": "display_data"
    },
    {
     "data": {
      "text/markdown": [
       "<span style=\"color:#33cc99\">Solution:</span> A straightforward (and totally fine) solution is to replace the original `print` call with:\n",
       "\n",
       "```python\n",
       "if total_candies == 1:\n",
       "    print(\"Splitting 1 candy\")\n",
       "else:\n",
       "    print(\"Splitting\", total_candies, \"candies\")\n",
       "```\n",
       "\n",
       "Here's a slightly more succinct solution using a conditional expression:\n",
       "\n",
       "```python\n",
       "print(\"Splitting\", total_candies, \"candy\" if total_candies == 1 else \"candies\")\n",
       "```"
      ],
      "text/plain": [
       "Solution: A straightforward (and totally fine) solution is to replace the original `print` call with:\n",
       "\n",
       "```python\n",
       "if total_candies == 1:\n",
       "    print(\"Splitting 1 candy\")\n",
       "else:\n",
       "    print(\"Splitting\", total_candies, \"candies\")\n",
       "```\n",
       "\n",
       "Here's a slightly more succinct solution using a conditional expression:\n",
       "\n",
       "```python\n",
       "print(\"Splitting\", total_candies, \"candy\" if total_candies == 1 else \"candies\")\n",
       "```"
      ]
     },
     "metadata": {},
     "output_type": "display_data"
    }
   ],
   "source": [
    "# Check your answer (Run this code cell to receive credit!)\n",
    "q2.solution()"
   ]
  },
  {
   "cell_type": "markdown",
   "id": "f29372dc",
   "metadata": {
    "papermill": {
     "duration": 0.030836,
     "end_time": "2021-08-04T18:39:10.226591",
     "exception": false,
     "start_time": "2021-08-04T18:39:10.195755",
     "status": "completed"
    },
    "tags": []
   },
   "source": [
    "# 3. <span title=\"A bit spicy\" style=\"color: darkgreen \">🌶️</span>\n",
    "\n",
    "In the tutorial, we talked about deciding whether we're prepared for the weather. I said that I'm safe from today's weather if...\n",
    "- I have an umbrella...\n",
    "- or if the rain isn't too heavy and I have a hood...\n",
    "- otherwise, I'm still fine unless it's raining *and* it's a workday\n",
    "\n",
    "The function below uses our first attempt at turning this logic into a Python expression. I claimed that there was a bug in that code. Can you find it?\n",
    "\n",
    "To prove that `prepared_for_weather` is buggy, come up with a set of inputs where either:\n",
    "- the function returns `False` (but should have returned `True`), or\n",
    "- the function returned `True` (but should have returned `False`).\n",
    "\n",
    "To get credit for completing this question, your code should return a <font color='#33cc33'>Correct</font> result."
   ]
  },
  {
   "cell_type": "code",
   "execution_count": 8,
   "id": "8f23844d",
   "metadata": {
    "execution": {
     "iopub.execute_input": "2021-08-04T18:39:10.293021Z",
     "iopub.status.busy": "2021-08-04T18:39:10.292405Z",
     "iopub.status.idle": "2021-08-04T18:39:10.301690Z",
     "shell.execute_reply": "2021-08-04T18:39:10.302162Z",
     "shell.execute_reply.started": "2021-08-04T18:30:29.897652Z"
    },
    "papermill": {
     "duration": 0.044373,
     "end_time": "2021-08-04T18:39:10.302353",
     "exception": false,
     "start_time": "2021-08-04T18:39:10.257980",
     "status": "completed"
    },
    "tags": []
   },
   "outputs": [
    {
     "name": "stdout",
     "output_type": "stream",
     "text": [
      "False\n"
     ]
    },
    {
     "data": {
      "application/javascript": [
       "parent.postMessage({\"jupyterEvent\": \"custom.exercise_interaction\", \"data\": {\"outcomeType\": 1, \"valueTowardsCompletion\": 0.2, \"interactionType\": 1, \"questionType\": 1, \"questionId\": \"3_WeatherDebug\", \"learnToolsVersion\": \"0.3.4\", \"failureMessage\": \"\", \"exceptionClass\": \"\", \"trace\": \"\"}}, \"*\")"
      ],
      "text/plain": [
       "<IPython.core.display.Javascript object>"
      ]
     },
     "metadata": {},
     "output_type": "display_data"
    },
    {
     "data": {
      "text/markdown": [
       "<span style=\"color:#33cc33\">Correct:</span> \n",
       "\n",
       "One example of a failing test case is:\n",
       "\n",
       "```python\n",
       "have_umbrella = False\n",
       "rain_level = 0.0\n",
       "have_hood = False\n",
       "is_workday = False\n",
       "```\n",
       "\n",
       "Clearly we're prepared for the weather in this case. It's not raining. Not only that, it's not a workday, so we don't even need to leave the house! But our function will return False on these inputs.\n",
       "\n",
       "The key problem is that Python implictly parenthesizes the last part as:\n",
       "\n",
       "```python\n",
       "(not (rain_level > 0)) and is_workday\n",
       "```\n",
       "\n",
       "Whereas what we were trying to express would look more like:\n",
       "\n",
       "```python\n",
       "not (rain_level > 0 and is_workday)\n",
       "```\n"
      ],
      "text/plain": [
       "Correct: \n",
       "\n",
       "One example of a failing test case is:\n",
       "\n",
       "```python\n",
       "have_umbrella = False\n",
       "rain_level = 0.0\n",
       "have_hood = False\n",
       "is_workday = False\n",
       "```\n",
       "\n",
       "Clearly we're prepared for the weather in this case. It's not raining. Not only that, it's not a workday, so we don't even need to leave the house! But our function will return False on these inputs.\n",
       "\n",
       "The key problem is that Python implictly parenthesizes the last part as:\n",
       "\n",
       "```python\n",
       "(not (rain_level > 0)) and is_workday\n",
       "```\n",
       "\n",
       "Whereas what we were trying to express would look more like:\n",
       "\n",
       "```python\n",
       "not (rain_level > 0 and is_workday)\n",
       "```"
      ]
     },
     "metadata": {},
     "output_type": "display_data"
    }
   ],
   "source": [
    "def prepared_for_weather(have_umbrella, rain_level, have_hood, is_workday):\n",
    "    # Don't change this code. Our goal is just to find the bug, not fix it!\n",
    "    return have_umbrella or rain_level < 5 and have_hood or not rain_level > 0 and is_workday\n",
    "\n",
    "# Change the values of these inputs so they represent a case where prepared_for_weather\n",
    "# returns the wrong answer.\n",
    "have_umbrella = False\n",
    "rain_level = 10.0\n",
    "have_hood = False\n",
    "is_workday = False\n",
    "\n",
    "# Check what the function returns given the current values of the variables above\n",
    "actual = prepared_for_weather(have_umbrella, rain_level, have_hood, is_workday)\n",
    "print(actual)\n",
    "\n",
    "# Check your answer\n",
    "q3.check()"
   ]
  },
  {
   "cell_type": "code",
   "execution_count": 9,
   "id": "bb1ad670",
   "metadata": {
    "execution": {
     "iopub.execute_input": "2021-08-04T18:39:10.371016Z",
     "iopub.status.busy": "2021-08-04T18:39:10.370372Z",
     "iopub.status.idle": "2021-08-04T18:39:10.373325Z",
     "shell.execute_reply": "2021-08-04T18:39:10.373824Z"
    },
    "papermill": {
     "duration": 0.038978,
     "end_time": "2021-08-04T18:39:10.373991",
     "exception": false,
     "start_time": "2021-08-04T18:39:10.335013",
     "status": "completed"
    },
    "tags": []
   },
   "outputs": [],
   "source": [
    "#q3.hint()\n",
    "#q3.solution()"
   ]
  },
  {
   "cell_type": "markdown",
   "id": "3a4c1a4b",
   "metadata": {
    "papermill": {
     "duration": 0.032511,
     "end_time": "2021-08-04T18:39:10.440020",
     "exception": false,
     "start_time": "2021-08-04T18:39:10.407509",
     "status": "completed"
    },
    "tags": []
   },
   "source": [
    "# 4.\n",
    "\n",
    "The function `is_negative` below is implemented correctly - it returns True if the given number is negative and False otherwise.\n",
    "\n",
    "However, it's more verbose than it needs to be. We can actually reduce the number of lines of code in this function by *75%* while keeping the same behaviour. \n",
    "\n",
    "See if you can come up with an equivalent body that uses just **one line** of code, and put it in the function `concise_is_negative`. (HINT: you don't even need Python's ternary syntax)"
   ]
  },
  {
   "cell_type": "code",
   "execution_count": 10,
   "id": "2b7c8936",
   "metadata": {
    "execution": {
     "iopub.execute_input": "2021-08-04T18:39:10.508862Z",
     "iopub.status.busy": "2021-08-04T18:39:10.508230Z",
     "iopub.status.idle": "2021-08-04T18:39:10.515449Z",
     "shell.execute_reply": "2021-08-04T18:39:10.515956Z",
     "shell.execute_reply.started": "2021-08-04T18:31:26.530781Z"
    },
    "papermill": {
     "duration": 0.043394,
     "end_time": "2021-08-04T18:39:10.516134",
     "exception": false,
     "start_time": "2021-08-04T18:39:10.472740",
     "status": "completed"
    },
    "tags": []
   },
   "outputs": [
    {
     "data": {
      "application/javascript": [
       "parent.postMessage({\"jupyterEvent\": \"custom.exercise_interaction\", \"data\": {\"outcomeType\": 1, \"valueTowardsCompletion\": 0.2, \"interactionType\": 1, \"questionType\": 2, \"questionId\": \"4_ConciseIsNegative\", \"learnToolsVersion\": \"0.3.4\", \"failureMessage\": \"\", \"exceptionClass\": \"\", \"trace\": \"\"}}, \"*\")"
      ],
      "text/plain": [
       "<IPython.core.display.Javascript object>"
      ]
     },
     "metadata": {},
     "output_type": "display_data"
    },
    {
     "data": {
      "text/markdown": [
       "<span style=\"color:#33cc33\">Correct</span>"
      ],
      "text/plain": [
       "Correct"
      ]
     },
     "metadata": {},
     "output_type": "display_data"
    }
   ],
   "source": [
    "def is_negative(number):\n",
    "    if number < 0:\n",
    "        return True\n",
    "    else:\n",
    "        return False\n",
    "\n",
    "def concise_is_negative(number):\n",
    "    return number<0\n",
    "\n",
    "# Check your answer\n",
    "q4.check()"
   ]
  },
  {
   "cell_type": "code",
   "execution_count": 11,
   "id": "6849406f",
   "metadata": {
    "execution": {
     "iopub.execute_input": "2021-08-04T18:39:10.587361Z",
     "iopub.status.busy": "2021-08-04T18:39:10.586715Z",
     "iopub.status.idle": "2021-08-04T18:39:10.589680Z",
     "shell.execute_reply": "2021-08-04T18:39:10.590187Z"
    },
    "papermill": {
     "duration": 0.040234,
     "end_time": "2021-08-04T18:39:10.590520",
     "exception": false,
     "start_time": "2021-08-04T18:39:10.550286",
     "status": "completed"
    },
    "tags": []
   },
   "outputs": [],
   "source": [
    "#q4.hint()\n",
    "#q4.solution()"
   ]
  },
  {
   "cell_type": "markdown",
   "id": "813d764b",
   "metadata": {
    "papermill": {
     "duration": 0.034413,
     "end_time": "2021-08-04T18:39:10.660260",
     "exception": false,
     "start_time": "2021-08-04T18:39:10.625847",
     "status": "completed"
    },
    "tags": []
   },
   "source": [
    "# 5a.\n",
    "\n",
    "The boolean variables `ketchup`, `mustard` and `onion` represent whether a customer wants a particular topping on their hot dog. We want to implement a number of boolean functions that correspond to some yes-or-no questions about the customer's order. For example:"
   ]
  },
  {
   "cell_type": "code",
   "execution_count": 12,
   "id": "c2717821",
   "metadata": {
    "execution": {
     "iopub.execute_input": "2021-08-04T18:39:10.731446Z",
     "iopub.status.busy": "2021-08-04T18:39:10.730817Z",
     "iopub.status.idle": "2021-08-04T18:39:10.735572Z",
     "shell.execute_reply": "2021-08-04T18:39:10.735040Z",
     "shell.execute_reply.started": "2021-08-04T18:31:54.868075Z"
    },
    "papermill": {
     "duration": 0.041314,
     "end_time": "2021-08-04T18:39:10.735719",
     "exception": false,
     "start_time": "2021-08-04T18:39:10.694405",
     "status": "completed"
    },
    "tags": []
   },
   "outputs": [],
   "source": [
    "def onionless(ketchup, mustard, onion):\n",
    "    \"\"\"Return whether the customer doesn't want onions.\n",
    "    \"\"\"\n",
    "    return not onion"
   ]
  },
  {
   "cell_type": "code",
   "execution_count": 13,
   "id": "ce788237",
   "metadata": {
    "execution": {
     "iopub.execute_input": "2021-08-04T18:39:10.829153Z",
     "iopub.status.busy": "2021-08-04T18:39:10.828105Z",
     "iopub.status.idle": "2021-08-04T18:39:10.835139Z",
     "shell.execute_reply": "2021-08-04T18:39:10.836038Z",
     "shell.execute_reply.started": "2021-08-04T18:32:32.640436Z"
    },
    "papermill": {
     "duration": 0.061899,
     "end_time": "2021-08-04T18:39:10.836282",
     "exception": false,
     "start_time": "2021-08-04T18:39:10.774383",
     "status": "completed"
    },
    "tags": []
   },
   "outputs": [
    {
     "data": {
      "application/javascript": [
       "parent.postMessage({\"jupyterEvent\": \"custom.exercise_interaction\", \"data\": {\"outcomeType\": 1, \"valueTowardsCompletion\": 0.2, \"interactionType\": 1, \"questionType\": 2, \"questionId\": \"5.1_AllToppings\", \"learnToolsVersion\": \"0.3.4\", \"failureMessage\": \"\", \"exceptionClass\": \"\", \"trace\": \"\"}}, \"*\")"
      ],
      "text/plain": [
       "<IPython.core.display.Javascript object>"
      ]
     },
     "metadata": {},
     "output_type": "display_data"
    },
    {
     "data": {
      "text/markdown": [
       "<span style=\"color:#33cc33\">Correct</span>"
      ],
      "text/plain": [
       "Correct"
      ]
     },
     "metadata": {},
     "output_type": "display_data"
    }
   ],
   "source": [
    "def wants_all_toppings(ketchup, mustard, onion):\n",
    "    \"\"\"Return whether the customer wants \"the works\" (all 3 toppings)\n",
    "    \"\"\"\n",
    "    return ketchup and mustard and onion\n",
    "\n",
    "# Check your answer\n",
    "q5.a.check()"
   ]
  },
  {
   "cell_type": "code",
   "execution_count": 14,
   "id": "a0bd0941",
   "metadata": {
    "execution": {
     "iopub.execute_input": "2021-08-04T18:39:10.918528Z",
     "iopub.status.busy": "2021-08-04T18:39:10.917848Z",
     "iopub.status.idle": "2021-08-04T18:39:10.921115Z",
     "shell.execute_reply": "2021-08-04T18:39:10.921640Z"
    },
    "papermill": {
     "duration": 0.041658,
     "end_time": "2021-08-04T18:39:10.921817",
     "exception": false,
     "start_time": "2021-08-04T18:39:10.880159",
     "status": "completed"
    },
    "tags": []
   },
   "outputs": [],
   "source": [
    "#q5.a.hint()\n",
    "#q5.a.solution()"
   ]
  },
  {
   "cell_type": "markdown",
   "id": "3eca7d79",
   "metadata": {
    "papermill": {
     "duration": 0.035487,
     "end_time": "2021-08-04T18:39:10.992897",
     "exception": false,
     "start_time": "2021-08-04T18:39:10.957410",
     "status": "completed"
    },
    "tags": []
   },
   "source": [
    "# 5b.\n",
    "\n",
    "For the next function, fill in the body to match the English description in the docstring. "
   ]
  },
  {
   "cell_type": "code",
   "execution_count": 15,
   "id": "7710f4d9",
   "metadata": {
    "execution": {
     "iopub.execute_input": "2021-08-04T18:39:11.069920Z",
     "iopub.status.busy": "2021-08-04T18:39:11.069261Z",
     "iopub.status.idle": "2021-08-04T18:39:11.075131Z",
     "shell.execute_reply": "2021-08-04T18:39:11.074630Z",
     "shell.execute_reply.started": "2021-08-04T18:33:03.148073Z"
    },
    "papermill": {
     "duration": 0.047008,
     "end_time": "2021-08-04T18:39:11.075289",
     "exception": false,
     "start_time": "2021-08-04T18:39:11.028281",
     "status": "completed"
    },
    "tags": []
   },
   "outputs": [
    {
     "data": {
      "application/javascript": [
       "parent.postMessage({\"jupyterEvent\": \"custom.exercise_interaction\", \"data\": {\"outcomeType\": 1, \"valueTowardsCompletion\": 0.2, \"interactionType\": 1, \"questionType\": 2, \"questionId\": \"5.2_PlainDog\", \"learnToolsVersion\": \"0.3.4\", \"failureMessage\": \"\", \"exceptionClass\": \"\", \"trace\": \"\"}}, \"*\")"
      ],
      "text/plain": [
       "<IPython.core.display.Javascript object>"
      ]
     },
     "metadata": {},
     "output_type": "display_data"
    },
    {
     "data": {
      "text/markdown": [
       "<span style=\"color:#33cc33\">Correct:</span> \n",
       "\n",
       "One solution looks like:\n",
       "```python\n",
       "return not ketchup and not mustard and not onion\n",
       "```\n",
       "\n",
       "We can also [\"factor out\" the nots](https://en.wikipedia.org/wiki/De_Morgan%27s_laws) to get:\n",
       "\n",
       "```python\n",
       "return not (ketchup or mustard or onion)\n",
       "```"
      ],
      "text/plain": [
       "Correct: \n",
       "\n",
       "One solution looks like:\n",
       "```python\n",
       "return not ketchup and not mustard and not onion\n",
       "```\n",
       "\n",
       "We can also [\"factor out\" the nots](https://en.wikipedia.org/wiki/De_Morgan%27s_laws) to get:\n",
       "\n",
       "```python\n",
       "return not (ketchup or mustard or onion)\n",
       "```"
      ]
     },
     "metadata": {},
     "output_type": "display_data"
    }
   ],
   "source": [
    "def wants_plain_hotdog(ketchup, mustard, onion):\n",
    "    \"\"\"Return whether the customer wants a plain hot dog with no toppings.\n",
    "    \"\"\"\n",
    "    return not (ketchup or mustard or onion)\n",
    "\n",
    "# Check your answer\n",
    "q5.b.check()"
   ]
  },
  {
   "cell_type": "code",
   "execution_count": 16,
   "id": "a8cc90d1",
   "metadata": {
    "execution": {
     "iopub.execute_input": "2021-08-04T18:39:11.154339Z",
     "iopub.status.busy": "2021-08-04T18:39:11.153367Z",
     "iopub.status.idle": "2021-08-04T18:39:11.155732Z",
     "shell.execute_reply": "2021-08-04T18:39:11.156189Z"
    },
    "papermill": {
     "duration": 0.044344,
     "end_time": "2021-08-04T18:39:11.156376",
     "exception": false,
     "start_time": "2021-08-04T18:39:11.112032",
     "status": "completed"
    },
    "tags": []
   },
   "outputs": [],
   "source": [
    "#q5.b.hint()\n",
    "#q5.b.solution()"
   ]
  },
  {
   "cell_type": "markdown",
   "id": "c3d8ebb5",
   "metadata": {
    "papermill": {
     "duration": 0.036018,
     "end_time": "2021-08-04T18:39:11.228781",
     "exception": false,
     "start_time": "2021-08-04T18:39:11.192763",
     "status": "completed"
    },
    "tags": []
   },
   "source": [
    "# 5c.\n",
    "\n",
    "You know what to do: for the next function, fill in the body to match the English description in the docstring."
   ]
  },
  {
   "cell_type": "code",
   "execution_count": 17,
   "id": "b0335178",
   "metadata": {
    "execution": {
     "iopub.execute_input": "2021-08-04T18:39:11.307418Z",
     "iopub.status.busy": "2021-08-04T18:39:11.306725Z",
     "iopub.status.idle": "2021-08-04T18:39:11.311649Z",
     "shell.execute_reply": "2021-08-04T18:39:11.312217Z",
     "shell.execute_reply.started": "2021-08-04T18:33:32.207552Z"
    },
    "papermill": {
     "duration": 0.047241,
     "end_time": "2021-08-04T18:39:11.312419",
     "exception": false,
     "start_time": "2021-08-04T18:39:11.265178",
     "status": "completed"
    },
    "tags": []
   },
   "outputs": [
    {
     "data": {
      "application/javascript": [
       "parent.postMessage({\"jupyterEvent\": \"custom.exercise_interaction\", \"data\": {\"outcomeType\": 1, \"valueTowardsCompletion\": 0.2, \"interactionType\": 1, \"questionType\": 2, \"questionId\": \"5.3_OneSauce\", \"learnToolsVersion\": \"0.3.4\", \"failureMessage\": \"\", \"exceptionClass\": \"\", \"trace\": \"\"}}, \"*\")"
      ],
      "text/plain": [
       "<IPython.core.display.Javascript object>"
      ]
     },
     "metadata": {},
     "output_type": "display_data"
    },
    {
     "data": {
      "text/markdown": [
       "<span style=\"color:#33cc33\">Correct</span>"
      ],
      "text/plain": [
       "Correct"
      ]
     },
     "metadata": {},
     "output_type": "display_data"
    }
   ],
   "source": [
    "def exactly_one_sauce(ketchup, mustard, onion):\n",
    "    \"\"\"Return whether the customer wants either ketchup or mustard, but not both.\n",
    "    (You may be familiar with this operation under the name \"exclusive or\")\n",
    "    \"\"\"\n",
    "    return ketchup ^ mustard\n",
    "\n",
    "# Check your answer\n",
    "q5.c.check()"
   ]
  },
  {
   "cell_type": "code",
   "execution_count": 18,
   "id": "6bc5c99d",
   "metadata": {
    "execution": {
     "iopub.execute_input": "2021-08-04T18:39:11.390262Z",
     "iopub.status.busy": "2021-08-04T18:39:11.389660Z",
     "iopub.status.idle": "2021-08-04T18:39:11.392840Z",
     "shell.execute_reply": "2021-08-04T18:39:11.393352Z"
    },
    "papermill": {
     "duration": 0.043651,
     "end_time": "2021-08-04T18:39:11.393520",
     "exception": false,
     "start_time": "2021-08-04T18:39:11.349869",
     "status": "completed"
    },
    "tags": []
   },
   "outputs": [],
   "source": [
    "#q5.c.hint()\n",
    "#q5.c.solution()"
   ]
  },
  {
   "cell_type": "markdown",
   "id": "fd1df668",
   "metadata": {
    "papermill": {
     "duration": 0.037447,
     "end_time": "2021-08-04T18:39:11.468432",
     "exception": false,
     "start_time": "2021-08-04T18:39:11.430985",
     "status": "completed"
    },
    "tags": []
   },
   "source": [
    "# 6. <span title=\"A bit spicy\" style=\"color: darkgreen \">🌶️</span>\n",
    "\n",
    "We’ve seen that calling `bool()` on an integer returns `False` if it’s equal to 0 and `True` otherwise. What happens if we call `int()` on a bool? Try it out in the notebook cell below.\n",
    "\n",
    "Can you take advantage of this to write a succinct function that corresponds to the English sentence \"does the customer want exactly one topping?\"?"
   ]
  },
  {
   "cell_type": "code",
   "execution_count": 19,
   "id": "82b6db5b",
   "metadata": {
    "execution": {
     "iopub.execute_input": "2021-08-04T18:39:11.546063Z",
     "iopub.status.busy": "2021-08-04T18:39:11.545425Z",
     "iopub.status.idle": "2021-08-04T18:39:11.554235Z",
     "shell.execute_reply": "2021-08-04T18:39:11.553609Z",
     "shell.execute_reply.started": "2021-08-04T18:38:30.596976Z"
    },
    "papermill": {
     "duration": 0.04875,
     "end_time": "2021-08-04T18:39:11.554408",
     "exception": false,
     "start_time": "2021-08-04T18:39:11.505658",
     "status": "completed"
    },
    "tags": []
   },
   "outputs": [
    {
     "data": {
      "application/javascript": [
       "parent.postMessage({\"jupyterEvent\": \"custom.exercise_interaction\", \"data\": {\"outcomeType\": 1, \"valueTowardsCompletion\": 0.2, \"interactionType\": 1, \"questionType\": 2, \"questionId\": \"6_OneTopping\", \"learnToolsVersion\": \"0.3.4\", \"failureMessage\": \"\", \"exceptionClass\": \"\", \"trace\": \"\"}}, \"*\")"
      ],
      "text/plain": [
       "<IPython.core.display.Javascript object>"
      ]
     },
     "metadata": {},
     "output_type": "display_data"
    },
    {
     "data": {
      "text/markdown": [
       "<span style=\"color:#33cc33\">Correct:</span> \n",
       "\n",
       "This condition would be pretty complicated to express using just `and`, `or` and `not`, but using boolean-to-integer conversion gives us this short solution:\n",
       "```python\n",
       "return (int(ketchup) + int(mustard) + int(onion)) == 1\n",
       "```\n",
       "\n",
       "Fun fact: we don't technically need to call `int` on the arguments. Just by doing addition with booleans, Python implicitly does the integer conversion. So we could also write...\n",
       "\n",
       "```python\n",
       "return (ketchup + mustard + onion) == 1\n",
       "```"
      ],
      "text/plain": [
       "Correct: \n",
       "\n",
       "This condition would be pretty complicated to express using just `and`, `or` and `not`, but using boolean-to-integer conversion gives us this short solution:\n",
       "```python\n",
       "return (int(ketchup) + int(mustard) + int(onion)) == 1\n",
       "```\n",
       "\n",
       "Fun fact: we don't technically need to call `int` on the arguments. Just by doing addition with booleans, Python implicitly does the integer conversion. So we could also write...\n",
       "\n",
       "```python\n",
       "return (ketchup + mustard + onion) == 1\n",
       "```"
      ]
     },
     "metadata": {},
     "output_type": "display_data"
    }
   ],
   "source": [
    "def exactly_one_topping(ketchup, mustard, onion):\n",
    "    \"\"\"Return whether the customer wants exactly one of the three available toppings\n",
    "    on their hot dog.\n",
    "    \"\"\"\n",
    "    return (not ketchup and not mustard and onion) or (not ketchup and not onion and mustard) or (not mustard and not onion and ketchup)\n",
    "\n",
    "# Check your answer\n",
    "q6.check()"
   ]
  },
  {
   "cell_type": "code",
   "execution_count": 20,
   "id": "68e43ac9",
   "metadata": {
    "execution": {
     "iopub.execute_input": "2021-08-04T18:39:11.636579Z",
     "iopub.status.busy": "2021-08-04T18:39:11.635924Z",
     "iopub.status.idle": "2021-08-04T18:39:11.637902Z",
     "shell.execute_reply": "2021-08-04T18:39:11.638399Z"
    },
    "papermill": {
     "duration": 0.045142,
     "end_time": "2021-08-04T18:39:11.638578",
     "exception": false,
     "start_time": "2021-08-04T18:39:11.593436",
     "status": "completed"
    },
    "tags": []
   },
   "outputs": [],
   "source": [
    "#q6.hint()\n",
    "#q6.solution()"
   ]
  },
  {
   "cell_type": "markdown",
   "id": "667a2973",
   "metadata": {
    "papermill": {
     "duration": 0.038118,
     "end_time": "2021-08-04T18:39:11.716703",
     "exception": false,
     "start_time": "2021-08-04T18:39:11.678585",
     "status": "completed"
    },
    "tags": []
   },
   "source": [
    "# 7. <span title=\"A bit spicy\" style=\"color: darkgreen \">🌶️</span> (Optional)\n",
    "\n",
    "In this problem we'll be working with a simplified version of [blackjack](https://en.wikipedia.org/wiki/Blackjack) (aka twenty-one). In this version there is one player (who you'll control) and a dealer. Play proceeds as follows:\n",
    "\n",
    "- The player is dealt two face-up cards. The dealer is dealt one face-up card.\n",
    "- The player may ask to be dealt another card ('hit') as many times as they wish. If the sum of their cards exceeds 21, they lose the round immediately.\n",
    "- The dealer then deals additional cards to himself until either:\n",
    "    - the sum of the dealer's cards exceeds 21, in which case the player wins the round\n",
    "    - the sum of the dealer's cards is greater than or equal to 17. If the player's total is greater than the dealer's, the player wins. Otherwise, the dealer wins (even in case of a tie).\n",
    "    \n",
    "When calculating the sum of cards, Jack, Queen, and King count for 10. Aces can count as 1 or 11 (when referring to a player's \"total\" above, we mean the largest total that can be made without exceeding 21. So e.g. A+8 = 19, A+8+8 = 17)\n",
    "\n",
    "For this problem, you'll write a function representing the player's decision-making strategy in this game. We've provided a very unintelligent implementation below:"
   ]
  },
  {
   "cell_type": "code",
   "execution_count": 21,
   "id": "ab58da5b",
   "metadata": {
    "execution": {
     "iopub.execute_input": "2021-08-04T18:39:11.796998Z",
     "iopub.status.busy": "2021-08-04T18:39:11.796368Z",
     "iopub.status.idle": "2021-08-04T18:39:11.800390Z",
     "shell.execute_reply": "2021-08-04T18:39:11.800897Z"
    },
    "papermill": {
     "duration": 0.045503,
     "end_time": "2021-08-04T18:39:11.801068",
     "exception": false,
     "start_time": "2021-08-04T18:39:11.755565",
     "status": "completed"
    },
    "tags": []
   },
   "outputs": [],
   "source": [
    "def should_hit(dealer_total, player_total, player_low_aces, player_high_aces):\n",
    "    \"\"\"Return True if the player should hit (request another card) given the current game\n",
    "    state, or False if the player should stay.\n",
    "    When calculating a hand's total value, we count aces as \"high\" (with value 11) if doing so\n",
    "    doesn't bring the total above 21, otherwise we count them as low (with value 1). \n",
    "    For example, if the player's hand is {A, A, A, 7}, we will count it as 11 + 1 + 1 + 7,\n",
    "    and therefore set player_total=20, player_low_aces=2, player_high_aces=1.\n",
    "    \"\"\"\n",
    "    return False"
   ]
  },
  {
   "cell_type": "markdown",
   "id": "90defd73",
   "metadata": {
    "papermill": {
     "duration": 0.038148,
     "end_time": "2021-08-04T18:39:11.878259",
     "exception": false,
     "start_time": "2021-08-04T18:39:11.840111",
     "status": "completed"
    },
    "tags": []
   },
   "source": [
    "This very conservative agent *always* sticks with the hand of two cards that they're dealt.\n",
    "\n",
    "We'll be simulating games between your player agent and our own dealer agent by calling your function.\n",
    "\n",
    "Try running the function below to see an example of a simulated game:"
   ]
  },
  {
   "cell_type": "code",
   "execution_count": 22,
   "id": "40536c03",
   "metadata": {
    "execution": {
     "iopub.execute_input": "2021-08-04T18:39:11.958980Z",
     "iopub.status.busy": "2021-08-04T18:39:11.958335Z",
     "iopub.status.idle": "2021-08-04T18:39:11.966094Z",
     "shell.execute_reply": "2021-08-04T18:39:11.965583Z"
    },
    "papermill": {
     "duration": 0.049494,
     "end_time": "2021-08-04T18:39:11.966248",
     "exception": false,
     "start_time": "2021-08-04T18:39:11.916754",
     "status": "completed"
    },
    "tags": []
   },
   "outputs": [
    {
     "name": "stdout",
     "output_type": "stream",
     "text": [
      "Player starts with 3 and 5 (total = 8)\n",
      "Dealer starts with 6\n",
      "\n",
      "__Player's turn__\n",
      "Player stays\n",
      "\n",
      "__Dealer's turn__\n",
      "Dealer hits and receives K. (total = 16)\n",
      "Dealer hits and receives K. (total = 26)\n",
      "Dealer busts! Player wins.\n"
     ]
    }
   ],
   "source": [
    "q7.simulate_one_game()"
   ]
  },
  {
   "cell_type": "markdown",
   "id": "ee7ccd70",
   "metadata": {
    "papermill": {
     "duration": 0.039781,
     "end_time": "2021-08-04T18:39:12.045713",
     "exception": false,
     "start_time": "2021-08-04T18:39:12.005932",
     "status": "completed"
    },
    "tags": []
   },
   "source": [
    "The real test of your agent's mettle is their average win rate over many games. Try calling the function below to simulate 50000 games of blackjack (it may take a couple seconds):"
   ]
  },
  {
   "cell_type": "code",
   "execution_count": 23,
   "id": "84282a95",
   "metadata": {
    "execution": {
     "iopub.execute_input": "2021-08-04T18:39:12.128123Z",
     "iopub.status.busy": "2021-08-04T18:39:12.127079Z",
     "iopub.status.idle": "2021-08-04T18:39:14.094896Z",
     "shell.execute_reply": "2021-08-04T18:39:14.094011Z"
    },
    "papermill": {
     "duration": 2.010407,
     "end_time": "2021-08-04T18:39:14.095086",
     "exception": false,
     "start_time": "2021-08-04T18:39:12.084679",
     "status": "completed"
    },
    "tags": []
   },
   "outputs": [
    {
     "name": "stdout",
     "output_type": "stream",
     "text": [
      "Player won 19009 out of 50000 games (win rate = 38.0%)\n"
     ]
    }
   ],
   "source": [
    "q7.simulate(n_games=50000)"
   ]
  },
  {
   "cell_type": "markdown",
   "id": "c2c96333",
   "metadata": {
    "papermill": {
     "duration": 0.040204,
     "end_time": "2021-08-04T18:39:14.176472",
     "exception": false,
     "start_time": "2021-08-04T18:39:14.136268",
     "status": "completed"
    },
    "tags": []
   },
   "source": [
    "Our dumb agent that completely ignores the game state still manages to win shockingly often!\n",
    "\n",
    "Try adding some more smarts to the `should_hit` function and see how it affects the results."
   ]
  },
  {
   "cell_type": "code",
   "execution_count": 24,
   "id": "0459eb5d",
   "metadata": {
    "execution": {
     "iopub.execute_input": "2021-08-04T18:39:14.279669Z",
     "iopub.status.busy": "2021-08-04T18:39:14.274616Z",
     "iopub.status.idle": "2021-08-04T18:39:16.224904Z",
     "shell.execute_reply": "2021-08-04T18:39:16.225367Z"
    },
    "papermill": {
     "duration": 2.009388,
     "end_time": "2021-08-04T18:39:16.225540",
     "exception": false,
     "start_time": "2021-08-04T18:39:14.216152",
     "status": "completed"
    },
    "tags": []
   },
   "outputs": [
    {
     "name": "stdout",
     "output_type": "stream",
     "text": [
      "Player won 18963 out of 50000 games (win rate = 37.9%)\n"
     ]
    }
   ],
   "source": [
    "def should_hit(dealer_total, player_total, player_low_aces, player_high_aces):\n",
    "    \"\"\"Return True if the player should hit (request another card) given the current game\n",
    "    state, or False if the player should stay.\n",
    "    When calculating a hand's total value, we count aces as \"high\" (with value 11) if doing so\n",
    "    doesn't bring the total above 21, otherwise we count them as low (with value 1). \n",
    "    For example, if the player's hand is {A, A, A, 7}, we will count it as 11 + 1 + 1 + 7,\n",
    "    and therefore set player_total=20, player_low_aces=2, player_high_aces=1.\n",
    "    \"\"\"\n",
    "    return False\n",
    "\n",
    "q7.simulate(n_games=50000)"
   ]
  },
  {
   "cell_type": "markdown",
   "id": "4e1dbaa0",
   "metadata": {
    "papermill": {
     "duration": 0.039795,
     "end_time": "2021-08-04T18:39:16.305361",
     "exception": false,
     "start_time": "2021-08-04T18:39:16.265566",
     "status": "completed"
    },
    "tags": []
   },
   "source": [
    "# Keep Going\n",
    "\n",
    "Learn about **[lists and tuples](https://www.kaggle.com/colinmorris/lists)** to handle multiple items of data in a systematic way."
   ]
  },
  {
   "cell_type": "markdown",
   "id": "75226b7b",
   "metadata": {
    "papermill": {
     "duration": 0.039354,
     "end_time": "2021-08-04T18:39:16.384544",
     "exception": false,
     "start_time": "2021-08-04T18:39:16.345190",
     "status": "completed"
    },
    "tags": []
   },
   "source": [
    "---\n",
    "\n",
    "\n",
    "\n",
    "\n",
    "*Have questions or comments? Visit the [Learn Discussion forum](https://www.kaggle.com/learn-forum/161283) to chat with other Learners.*"
   ]
  }
 ],
 "metadata": {
  "kernelspec": {
   "display_name": "Python 3",
   "language": "python",
   "name": "python3"
  },
  "language_info": {
   "codemirror_mode": {
    "name": "ipython",
    "version": 3
   },
   "file_extension": ".py",
   "mimetype": "text/x-python",
   "name": "python",
   "nbconvert_exporter": "python",
   "pygments_lexer": "ipython3",
   "version": "3.7.10"
  },
  "papermill": {
   "default_parameters": {},
   "duration": 16.819175,
   "end_time": "2021-08-04T18:39:17.672874",
   "environment_variables": {},
   "exception": null,
   "input_path": "__notebook__.ipynb",
   "output_path": "__notebook__.ipynb",
   "parameters": {},
   "start_time": "2021-08-04T18:39:00.853699",
   "version": "2.3.3"
  }
 },
 "nbformat": 4,
 "nbformat_minor": 5
}
