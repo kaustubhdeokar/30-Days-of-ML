{
 "cells": [
  {
   "cell_type": "markdown",
   "id": "e0486b83",
   "metadata": {
    "papermill": {
     "duration": 0.015088,
     "end_time": "2021-08-05T17:06:12.905656",
     "exception": false,
     "start_time": "2021-08-05T17:06:12.890568",
     "status": "completed"
    },
    "tags": []
   },
   "source": [
    "**This notebook is an exercise in the [Python](https://www.kaggle.com/learn/python) course.  You can reference the tutorial at [this link](https://www.kaggle.com/colinmorris/lists).**\n",
    "\n",
    "---\n"
   ]
  },
  {
   "cell_type": "markdown",
   "id": "0edf1eb6",
   "metadata": {
    "papermill": {
     "duration": 0.014767,
     "end_time": "2021-08-05T17:06:12.934986",
     "exception": false,
     "start_time": "2021-08-05T17:06:12.920219",
     "status": "completed"
    },
    "tags": []
   },
   "source": [
    "Things get more interesting with lists. You'll apply your new knowledge to solve the questions below. Remember to run the following cell first."
   ]
  },
  {
   "cell_type": "code",
   "execution_count": 1,
   "id": "03acf082",
   "metadata": {
    "execution": {
     "iopub.execute_input": "2021-08-05T17:06:12.977118Z",
     "iopub.status.busy": "2021-08-05T17:06:12.976268Z",
     "iopub.status.idle": "2021-08-05T17:06:13.108681Z",
     "shell.execute_reply": "2021-08-05T17:06:13.107427Z",
     "shell.execute_reply.started": "2021-08-05T17:01:05.648012Z"
    },
    "papermill": {
     "duration": 0.159654,
     "end_time": "2021-08-05T17:06:13.108927",
     "exception": false,
     "start_time": "2021-08-05T17:06:12.949273",
     "status": "completed"
    },
    "tags": []
   },
   "outputs": [
    {
     "name": "stdout",
     "output_type": "stream",
     "text": [
      "Setup complete.\n"
     ]
    }
   ],
   "source": [
    "from learntools.core import binder; binder.bind(globals())\n",
    "from learntools.python.ex4 import *\n",
    "print('Setup complete.')"
   ]
  },
  {
   "cell_type": "markdown",
   "id": "5828fe65",
   "metadata": {
    "papermill": {
     "duration": 0.014131,
     "end_time": "2021-08-05T17:06:13.139114",
     "exception": false,
     "start_time": "2021-08-05T17:06:13.124983",
     "status": "completed"
    },
    "tags": []
   },
   "source": [
    "# 1.\n",
    "\n",
    "Complete the function below according to its docstring."
   ]
  },
  {
   "cell_type": "code",
   "execution_count": 2,
   "id": "bb43e0c5",
   "metadata": {
    "execution": {
     "iopub.execute_input": "2021-08-05T17:06:13.177336Z",
     "iopub.status.busy": "2021-08-05T17:06:13.176351Z",
     "iopub.status.idle": "2021-08-05T17:06:13.182799Z",
     "shell.execute_reply": "2021-08-05T17:06:13.182060Z",
     "shell.execute_reply.started": "2021-08-05T17:01:08.467056Z"
    },
    "papermill": {
     "duration": 0.029574,
     "end_time": "2021-08-05T17:06:13.182957",
     "exception": false,
     "start_time": "2021-08-05T17:06:13.153383",
     "status": "completed"
    },
    "tags": []
   },
   "outputs": [
    {
     "data": {
      "application/javascript": [
       "parent.postMessage({\"jupyterEvent\": \"custom.exercise_interaction\", \"data\": {\"outcomeType\": 1, \"valueTowardsCompletion\": 0.2, \"interactionType\": 1, \"questionType\": 2, \"questionId\": \"1_SelectSecondItem\", \"learnToolsVersion\": \"0.3.4\", \"failureMessage\": \"\", \"exceptionClass\": \"\", \"trace\": \"\"}}, \"*\")"
      ],
      "text/plain": [
       "<IPython.core.display.Javascript object>"
      ]
     },
     "metadata": {},
     "output_type": "display_data"
    },
    {
     "data": {
      "text/markdown": [
       "<span style=\"color:#33cc33\">Correct</span>"
      ],
      "text/plain": [
       "Correct"
      ]
     },
     "metadata": {},
     "output_type": "display_data"
    }
   ],
   "source": [
    "def select_second(L):\n",
    "    if(len(L)<2):\n",
    "        return None\n",
    "    else:\n",
    "        return L[1]\n",
    "    pass\n",
    "\n",
    "# Check your answer\n",
    "q1.check()"
   ]
  },
  {
   "cell_type": "code",
   "execution_count": 3,
   "id": "e1029d9c",
   "metadata": {
    "execution": {
     "iopub.execute_input": "2021-08-05T17:06:13.218751Z",
     "iopub.status.busy": "2021-08-05T17:06:13.218082Z",
     "iopub.status.idle": "2021-08-05T17:06:13.227885Z",
     "shell.execute_reply": "2021-08-05T17:06:13.227373Z",
     "shell.execute_reply.started": "2021-08-05T17:01:13.178433Z"
    },
    "papermill": {
     "duration": 0.029777,
     "end_time": "2021-08-05T17:06:13.228072",
     "exception": false,
     "start_time": "2021-08-05T17:06:13.198295",
     "status": "completed"
    },
    "tags": []
   },
   "outputs": [
    {
     "data": {
      "application/javascript": [
       "parent.postMessage({\"jupyterEvent\": \"custom.exercise_interaction\", \"data\": {\"interactionType\": 2, \"questionType\": 2, \"questionId\": \"1_SelectSecondItem\", \"learnToolsVersion\": \"0.3.4\", \"valueTowardsCompletion\": 0.0, \"failureMessage\": \"\", \"exceptionClass\": \"\", \"trace\": \"\", \"outcomeType\": 4}}, \"*\")"
      ],
      "text/plain": [
       "<IPython.core.display.Javascript object>"
      ]
     },
     "metadata": {},
     "output_type": "display_data"
    },
    {
     "data": {
      "text/markdown": [
       "<span style=\"color:#3366cc\">Hint:</span> Python starts counting at 0. So the second item isn't indexed with a 2"
      ],
      "text/plain": [
       "Hint: Python starts counting at 0. So the second item isn't indexed with a 2"
      ]
     },
     "metadata": {},
     "output_type": "display_data"
    },
    {
     "data": {
      "application/javascript": [
       "parent.postMessage({\"jupyterEvent\": \"custom.exercise_interaction\", \"data\": {\"interactionType\": 3, \"questionType\": 2, \"questionId\": \"1_SelectSecondItem\", \"learnToolsVersion\": \"0.3.4\", \"valueTowardsCompletion\": 0.0, \"failureMessage\": \"\", \"exceptionClass\": \"\", \"trace\": \"\", \"outcomeType\": 4}}, \"*\")"
      ],
      "text/plain": [
       "<IPython.core.display.Javascript object>"
      ]
     },
     "metadata": {},
     "output_type": "display_data"
    },
    {
     "data": {
      "text/markdown": [
       "<span style=\"color:#33cc99\">Solution:</span> \n",
       "```python\n",
       "def select_second(L):\n",
       "    if len(L) < 2:\n",
       "        return None\n",
       "    return L[1]\n",
       "```"
      ],
      "text/plain": [
       "Solution: \n",
       "```python\n",
       "def select_second(L):\n",
       "    if len(L) < 2:\n",
       "        return None\n",
       "    return L[1]\n",
       "```"
      ]
     },
     "metadata": {},
     "output_type": "display_data"
    }
   ],
   "source": [
    "q1.hint()\n",
    "q1.solution()"
   ]
  },
  {
   "cell_type": "markdown",
   "id": "4f53e815",
   "metadata": {
    "papermill": {
     "duration": 0.016815,
     "end_time": "2021-08-05T17:06:13.262396",
     "exception": false,
     "start_time": "2021-08-05T17:06:13.245581",
     "status": "completed"
    },
    "tags": []
   },
   "source": [
    "# 2.\n",
    "\n",
    "You are analyzing sports teams.  Members of each team are stored in a list. The Coach is the first name in the list, the captain is the second name in the list, and other players are listed after that. \n",
    "These lists are stored in another list, which starts with the best team and proceeds through the list to the worst team last.  Complete the function below to select the **captain** of the worst team."
   ]
  },
  {
   "cell_type": "code",
   "execution_count": 4,
   "id": "3641ed55",
   "metadata": {
    "execution": {
     "iopub.execute_input": "2021-08-05T17:06:13.303759Z",
     "iopub.status.busy": "2021-08-05T17:06:13.303087Z",
     "iopub.status.idle": "2021-08-05T17:06:13.308619Z",
     "shell.execute_reply": "2021-08-05T17:06:13.308068Z",
     "shell.execute_reply.started": "2021-08-05T17:01:23.479917Z"
    },
    "papermill": {
     "duration": 0.028451,
     "end_time": "2021-08-05T17:06:13.308768",
     "exception": false,
     "start_time": "2021-08-05T17:06:13.280317",
     "status": "completed"
    },
    "tags": []
   },
   "outputs": [
    {
     "data": {
      "application/javascript": [
       "parent.postMessage({\"jupyterEvent\": \"custom.exercise_interaction\", \"data\": {\"outcomeType\": 1, \"valueTowardsCompletion\": 0.2, \"interactionType\": 1, \"questionType\": 2, \"questionId\": \"2_LosingTeamCaptain\", \"learnToolsVersion\": \"0.3.4\", \"failureMessage\": \"\", \"exceptionClass\": \"\", \"trace\": \"\"}}, \"*\")"
      ],
      "text/plain": [
       "<IPython.core.display.Javascript object>"
      ]
     },
     "metadata": {},
     "output_type": "display_data"
    },
    {
     "data": {
      "text/markdown": [
       "<span style=\"color:#33cc33\">Correct</span>"
      ],
      "text/plain": [
       "Correct"
      ]
     },
     "metadata": {},
     "output_type": "display_data"
    }
   ],
   "source": [
    "def losing_team_captain(teams):\n",
    "    return teams[-1][1]\n",
    "    pass\n",
    "\n",
    "# Check your answer\n",
    "q2.check()"
   ]
  },
  {
   "cell_type": "code",
   "execution_count": 5,
   "id": "40cc0115",
   "metadata": {
    "execution": {
     "iopub.execute_input": "2021-08-05T17:06:13.350444Z",
     "iopub.status.busy": "2021-08-05T17:06:13.349685Z",
     "iopub.status.idle": "2021-08-05T17:06:13.358574Z",
     "shell.execute_reply": "2021-08-05T17:06:13.357983Z",
     "shell.execute_reply.started": "2021-08-05T17:01:32.759853Z"
    },
    "papermill": {
     "duration": 0.031453,
     "end_time": "2021-08-05T17:06:13.358730",
     "exception": false,
     "start_time": "2021-08-05T17:06:13.327277",
     "status": "completed"
    },
    "tags": []
   },
   "outputs": [
    {
     "data": {
      "application/javascript": [
       "parent.postMessage({\"jupyterEvent\": \"custom.exercise_interaction\", \"data\": {\"interactionType\": 2, \"questionType\": 2, \"questionId\": \"2_LosingTeamCaptain\", \"learnToolsVersion\": \"0.3.4\", \"valueTowardsCompletion\": 0.0, \"failureMessage\": \"\", \"exceptionClass\": \"\", \"trace\": \"\", \"outcomeType\": 4}}, \"*\")"
      ],
      "text/plain": [
       "<IPython.core.display.Javascript object>"
      ]
     },
     "metadata": {},
     "output_type": "display_data"
    },
    {
     "data": {
      "text/markdown": [
       "<span style=\"color:#3366cc\">Hint:</span> The last item in a list `L` can be selected with `L[-1]`. The first item in the first sublist would be selected as `L[0][0]`"
      ],
      "text/plain": [
       "Hint: The last item in a list `L` can be selected with `L[-1]`. The first item in the first sublist would be selected as `L[0][0]`"
      ]
     },
     "metadata": {},
     "output_type": "display_data"
    },
    {
     "data": {
      "application/javascript": [
       "parent.postMessage({\"jupyterEvent\": \"custom.exercise_interaction\", \"data\": {\"interactionType\": 3, \"questionType\": 2, \"questionId\": \"2_LosingTeamCaptain\", \"learnToolsVersion\": \"0.3.4\", \"valueTowardsCompletion\": 0.0, \"failureMessage\": \"\", \"exceptionClass\": \"\", \"trace\": \"\", \"outcomeType\": 4}}, \"*\")"
      ],
      "text/plain": [
       "<IPython.core.display.Javascript object>"
      ]
     },
     "metadata": {},
     "output_type": "display_data"
    },
    {
     "data": {
      "text/markdown": [
       "<span style=\"color:#33cc99\">Solution:</span> \n",
       "```python\n",
       "def losing_team_captain(teams):\n",
       "    return teams[-1][1]\n",
       "```"
      ],
      "text/plain": [
       "Solution: \n",
       "```python\n",
       "def losing_team_captain(teams):\n",
       "    return teams[-1][1]\n",
       "```"
      ]
     },
     "metadata": {},
     "output_type": "display_data"
    }
   ],
   "source": [
    "q2.hint()\n",
    "q2.solution()"
   ]
  },
  {
   "cell_type": "markdown",
   "id": "d6775870",
   "metadata": {
    "papermill": {
     "duration": 0.019882,
     "end_time": "2021-08-05T17:06:13.398998",
     "exception": false,
     "start_time": "2021-08-05T17:06:13.379116",
     "status": "completed"
    },
    "tags": []
   },
   "source": [
    "# 3.\n",
    "\n",
    "The next iteration of Mario Kart will feature an extra-infuriating new item, the *Purple Shell*. When used, it warps the last place racer into first place and the first place racer into last place. Complete the function below to implement the Purple Shell's effect."
   ]
  },
  {
   "cell_type": "code",
   "execution_count": 6,
   "id": "3fb85ed0",
   "metadata": {
    "execution": {
     "iopub.execute_input": "2021-08-05T17:06:13.444856Z",
     "iopub.status.busy": "2021-08-05T17:06:13.444201Z",
     "iopub.status.idle": "2021-08-05T17:06:13.448458Z",
     "shell.execute_reply": "2021-08-05T17:06:13.449081Z",
     "shell.execute_reply.started": "2021-08-05T17:02:16.229439Z"
    },
    "papermill": {
     "duration": 0.030137,
     "end_time": "2021-08-05T17:06:13.449257",
     "exception": false,
     "start_time": "2021-08-05T17:06:13.419120",
     "status": "completed"
    },
    "tags": []
   },
   "outputs": [
    {
     "data": {
      "application/javascript": [
       "parent.postMessage({\"jupyterEvent\": \"custom.exercise_interaction\", \"data\": {\"outcomeType\": 1, \"valueTowardsCompletion\": 0.2, \"interactionType\": 1, \"questionType\": 2, \"questionId\": \"3_PurpleShell\", \"learnToolsVersion\": \"0.3.4\", \"failureMessage\": \"\", \"exceptionClass\": \"\", \"trace\": \"\"}}, \"*\")"
      ],
      "text/plain": [
       "<IPython.core.display.Javascript object>"
      ]
     },
     "metadata": {},
     "output_type": "display_data"
    },
    {
     "data": {
      "text/markdown": [
       "<span style=\"color:#33cc33\">Correct</span>"
      ],
      "text/plain": [
       "Correct"
      ]
     },
     "metadata": {},
     "output_type": "display_data"
    }
   ],
   "source": [
    "def purple_shell(racers):\n",
    "    racers[0],racers[-1]=racers[-1],racers[0]\n",
    "    pass\n",
    "\n",
    "# Check your answer\n",
    "q3.check()"
   ]
  },
  {
   "cell_type": "code",
   "execution_count": 7,
   "id": "6f73585d",
   "metadata": {
    "collapsed": true,
    "execution": {
     "iopub.execute_input": "2021-08-05T17:06:13.494769Z",
     "iopub.status.busy": "2021-08-05T17:06:13.494125Z",
     "iopub.status.idle": "2021-08-05T17:06:13.496933Z",
     "shell.execute_reply": "2021-08-05T17:06:13.497609Z"
    },
    "jupyter": {
     "outputs_hidden": true
    },
    "papermill": {
     "duration": 0.027025,
     "end_time": "2021-08-05T17:06:13.497778",
     "exception": false,
     "start_time": "2021-08-05T17:06:13.470753",
     "status": "completed"
    },
    "tags": []
   },
   "outputs": [],
   "source": [
    "#q3.hint()\n",
    "#q3.solution()"
   ]
  },
  {
   "cell_type": "markdown",
   "id": "f6016f67",
   "metadata": {
    "papermill": {
     "duration": 0.020894,
     "end_time": "2021-08-05T17:06:13.540709",
     "exception": false,
     "start_time": "2021-08-05T17:06:13.519815",
     "status": "completed"
    },
    "tags": []
   },
   "source": [
    "# 4.\n",
    "\n",
    "What are the lengths of the following lists? Fill in the variable `lengths` with your predictions. (Try to make a prediction for each list *without* just calling `len()` on it.)"
   ]
  },
  {
   "cell_type": "code",
   "execution_count": 8,
   "id": "c5fa313a",
   "metadata": {
    "execution": {
     "iopub.execute_input": "2021-08-05T17:06:13.586229Z",
     "iopub.status.busy": "2021-08-05T17:06:13.585610Z",
     "iopub.status.idle": "2021-08-05T17:06:13.594916Z",
     "shell.execute_reply": "2021-08-05T17:06:13.594402Z",
     "shell.execute_reply.started": "2021-08-05T17:02:40.776381Z"
    },
    "papermill": {
     "duration": 0.033242,
     "end_time": "2021-08-05T17:06:13.595101",
     "exception": false,
     "start_time": "2021-08-05T17:06:13.561859",
     "status": "completed"
    },
    "tags": []
   },
   "outputs": [
    {
     "data": {
      "application/javascript": [
       "parent.postMessage({\"jupyterEvent\": \"custom.exercise_interaction\", \"data\": {\"outcomeType\": 1, \"valueTowardsCompletion\": 0.2, \"interactionType\": 1, \"questionType\": 1, \"questionId\": \"4_UnderstandLen\", \"learnToolsVersion\": \"0.3.4\", \"failureMessage\": \"\", \"exceptionClass\": \"\", \"trace\": \"\"}}, \"*\")"
      ],
      "text/plain": [
       "<IPython.core.display.Javascript object>"
      ]
     },
     "metadata": {},
     "output_type": "display_data"
    },
    {
     "data": {
      "text/markdown": [
       "<span style=\"color:#33cc33\">Correct:</span> \n",
       "\n",
       "\n",
       "- a: There are three items in this list. Nothing tricky yet.\n",
       "- b: The list `[2, 3]` counts as a single item. It has one item before it. So we have 2 items in the list\n",
       "- c: The empty list has 0 items\n",
       "- d: The expression is the same as the list `[2, 3]`, which has length 2."
      ],
      "text/plain": [
       "Correct: \n",
       "\n",
       "\n",
       "- a: There are three items in this list. Nothing tricky yet.\n",
       "- b: The list `[2, 3]` counts as a single item. It has one item before it. So we have 2 items in the list\n",
       "- c: The empty list has 0 items\n",
       "- d: The expression is the same as the list `[2, 3]`, which has length 2."
      ]
     },
     "metadata": {},
     "output_type": "display_data"
    }
   ],
   "source": [
    "a = [1, 2, 3]\n",
    "b = [1, [2, 3]]\n",
    "c = []\n",
    "d = [1, 2, 3][1:]\n",
    "\n",
    "# Put your predictions in the list below. Lengths should contain 4 numbers, the\n",
    "# first being the length of a, the second being the length of b and so on.\n",
    "lengths = [len(a),len(b),len(c),len(d)]\n",
    "\n",
    "# Check your answer\n",
    "q4.check()"
   ]
  },
  {
   "cell_type": "code",
   "execution_count": 9,
   "id": "d82b5d1e",
   "metadata": {
    "collapsed": true,
    "execution": {
     "iopub.execute_input": "2021-08-05T17:06:13.644043Z",
     "iopub.status.busy": "2021-08-05T17:06:13.643387Z",
     "iopub.status.idle": "2021-08-05T17:06:13.645430Z",
     "shell.execute_reply": "2021-08-05T17:06:13.645890Z"
    },
    "jupyter": {
     "outputs_hidden": true
    },
    "papermill": {
     "duration": 0.028571,
     "end_time": "2021-08-05T17:06:13.646091",
     "exception": false,
     "start_time": "2021-08-05T17:06:13.617520",
     "status": "completed"
    },
    "tags": []
   },
   "outputs": [],
   "source": [
    "# line below provides some explanation\n",
    "#q4.solution()"
   ]
  },
  {
   "cell_type": "markdown",
   "id": "cb34c0cc",
   "metadata": {
    "papermill": {
     "duration": 0.022267,
     "end_time": "2021-08-05T17:06:13.691486",
     "exception": false,
     "start_time": "2021-08-05T17:06:13.669219",
     "status": "completed"
    },
    "tags": []
   },
   "source": [
    "# 5. <span title=\"A bit spicy\" style=\"color: darkgreen \">🌶️</span>\n",
    "\n",
    "We're using lists to record people who attended our party and what order they arrived in. For example, the following list represents a party with 7 guests, in which Adela showed up first and Ford was the last to arrive:\n",
    "\n",
    "    party_attendees = ['Adela', 'Fleda', 'Owen', 'May', 'Mona', 'Gilbert', 'Ford']\n",
    "\n",
    "A guest is considered 'fashionably late' if they arrived after at least half of the party's guests. However, they must not be the very last guest (that's taking it too far). In the above example, Mona and Gilbert are the only guests who were fashionably late.\n",
    "\n",
    "Complete the function below which takes a list of party attendees as well as a person, and tells us whether that person is fashionably late."
   ]
  },
  {
   "cell_type": "code",
   "execution_count": 10,
   "id": "8506b309",
   "metadata": {
    "execution": {
     "iopub.execute_input": "2021-08-05T17:06:13.741215Z",
     "iopub.status.busy": "2021-08-05T17:06:13.740534Z",
     "iopub.status.idle": "2021-08-05T17:06:13.747970Z",
     "shell.execute_reply": "2021-08-05T17:06:13.748580Z",
     "shell.execute_reply.started": "2021-08-05T17:05:30.981590Z"
    },
    "papermill": {
     "duration": 0.033166,
     "end_time": "2021-08-05T17:06:13.748743",
     "exception": false,
     "start_time": "2021-08-05T17:06:13.715577",
     "status": "completed"
    },
    "tags": []
   },
   "outputs": [
    {
     "data": {
      "application/javascript": [
       "parent.postMessage({\"jupyterEvent\": \"custom.exercise_interaction\", \"data\": {\"outcomeType\": 1, \"valueTowardsCompletion\": 0.2, \"interactionType\": 1, \"questionType\": 2, \"questionId\": \"5_FashionablyLate\", \"learnToolsVersion\": \"0.3.4\", \"failureMessage\": \"\", \"exceptionClass\": \"\", \"trace\": \"\"}}, \"*\")"
      ],
      "text/plain": [
       "<IPython.core.display.Javascript object>"
      ]
     },
     "metadata": {},
     "output_type": "display_data"
    },
    {
     "data": {
      "text/markdown": [
       "<span style=\"color:#33cc33\">Correct</span>"
      ],
      "text/plain": [
       "Correct"
      ]
     },
     "metadata": {},
     "output_type": "display_data"
    }
   ],
   "source": [
    "def fashionably_late(arrivals, name):\n",
    "    l = len(arrivals)\n",
    "    if(arrivals.index(name)>=l/2 and arrivals.index(name)!=l-1):\n",
    "        return True\n",
    "    else:\n",
    "        return False\n",
    "# Check your answer\n",
    "q5.check()"
   ]
  },
  {
   "cell_type": "code",
   "execution_count": 11,
   "id": "c079b357",
   "metadata": {
    "collapsed": true,
    "execution": {
     "iopub.execute_input": "2021-08-05T17:06:13.797869Z",
     "iopub.status.busy": "2021-08-05T17:06:13.797275Z",
     "iopub.status.idle": "2021-08-05T17:06:13.800314Z",
     "shell.execute_reply": "2021-08-05T17:06:13.800871Z"
    },
    "jupyter": {
     "outputs_hidden": true
    },
    "papermill": {
     "duration": 0.02929,
     "end_time": "2021-08-05T17:06:13.801049",
     "exception": false,
     "start_time": "2021-08-05T17:06:13.771759",
     "status": "completed"
    },
    "tags": []
   },
   "outputs": [],
   "source": [
    "#q5.hint()\n",
    "#q5.solution()"
   ]
  },
  {
   "cell_type": "markdown",
   "id": "7c590ccf",
   "metadata": {
    "papermill": {
     "duration": 0.022847,
     "end_time": "2021-08-05T17:06:13.847131",
     "exception": false,
     "start_time": "2021-08-05T17:06:13.824284",
     "status": "completed"
    },
    "tags": []
   },
   "source": [
    "# Keep Going\n",
    "\n",
    "That's it for lists and tuples! Now you have the baseline knowledge to **[learn about loops](https://www.kaggle.com/colinmorris/loops-and-list-comprehensions)**, which is where lists and tuples get really interesting. "
   ]
  },
  {
   "cell_type": "markdown",
   "id": "f2438389",
   "metadata": {
    "papermill": {
     "duration": 0.022892,
     "end_time": "2021-08-05T17:06:13.894055",
     "exception": false,
     "start_time": "2021-08-05T17:06:13.871163",
     "status": "completed"
    },
    "tags": []
   },
   "source": [
    "---\n",
    "\n",
    "\n",
    "\n",
    "\n",
    "*Have questions or comments? Visit the [Learn Discussion forum](https://www.kaggle.com/learn-forum/161283) to chat with other Learners.*"
   ]
  }
 ],
 "metadata": {
  "kernelspec": {
   "display_name": "Python 3",
   "language": "python",
   "name": "python3"
  },
  "language_info": {
   "codemirror_mode": {
    "name": "ipython",
    "version": 3
   },
   "file_extension": ".py",
   "mimetype": "text/x-python",
   "name": "python",
   "nbconvert_exporter": "python",
   "pygments_lexer": "ipython3",
   "version": "3.7.10"
  },
  "papermill": {
   "default_parameters": {},
   "duration": 9.411899,
   "end_time": "2021-08-05T17:06:14.526397",
   "environment_variables": {},
   "exception": null,
   "input_path": "__notebook__.ipynb",
   "output_path": "__notebook__.ipynb",
   "parameters": {},
   "start_time": "2021-08-05T17:06:05.114498",
   "version": "2.3.3"
  }
 },
 "nbformat": 4,
 "nbformat_minor": 5
}
