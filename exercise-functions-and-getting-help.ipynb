{
 "cells": [
  {
   "cell_type": "markdown",
   "id": "a2ea96d9",
   "metadata": {
    "papermill": {
     "duration": 0.012483,
     "end_time": "2021-08-04T18:23:37.626008",
     "exception": false,
     "start_time": "2021-08-04T18:23:37.613525",
     "status": "completed"
    },
    "tags": []
   },
   "source": [
    "**This notebook is an exercise in the [Python](https://www.kaggle.com/learn/python) course.  You can reference the tutorial at [this link](https://www.kaggle.com/colinmorris/functions-and-getting-help).**\n",
    "\n",
    "---\n"
   ]
  },
  {
   "cell_type": "markdown",
   "id": "7af957df",
   "metadata": {
    "papermill": {
     "duration": 0.011722,
     "end_time": "2021-08-04T18:23:37.651696",
     "exception": false,
     "start_time": "2021-08-04T18:23:37.639974",
     "status": "completed"
    },
    "tags": []
   },
   "source": [
    "# Try It Yourself\n",
    "\n",
    "Functions are powerful. Try writing some yourself.\n",
    "\n",
    "As before, don't forget to run the setup code below before jumping into question 1."
   ]
  },
  {
   "cell_type": "code",
   "execution_count": 1,
   "id": "a1518673",
   "metadata": {
    "_kg_hide-input": true,
    "_kg_hide-output": true,
    "execution": {
     "iopub.execute_input": "2021-08-04T18:23:37.684730Z",
     "iopub.status.busy": "2021-08-04T18:23:37.684147Z",
     "iopub.status.idle": "2021-08-04T18:23:37.804171Z",
     "shell.execute_reply": "2021-08-04T18:23:37.803418Z",
     "shell.execute_reply.started": "2021-08-04T17:21:07.036683Z"
    },
    "papermill": {
     "duration": 0.141072,
     "end_time": "2021-08-04T18:23:37.804342",
     "exception": false,
     "start_time": "2021-08-04T18:23:37.663270",
     "status": "completed"
    },
    "tags": []
   },
   "outputs": [
    {
     "name": "stdout",
     "output_type": "stream",
     "text": [
      "Setup complete.\n"
     ]
    }
   ],
   "source": [
    "# SETUP. You don't need to worry for now about what this code does or how it works.\n",
    "from learntools.core import binder; binder.bind(globals())\n",
    "from learntools.python.ex2 import *\n",
    "print('Setup complete.')"
   ]
  },
  {
   "cell_type": "markdown",
   "id": "7e4a9454",
   "metadata": {
    "papermill": {
     "duration": 0.011407,
     "end_time": "2021-08-04T18:23:37.828148",
     "exception": false,
     "start_time": "2021-08-04T18:23:37.816741",
     "status": "completed"
    },
    "tags": []
   },
   "source": [
    "# Exercises"
   ]
  },
  {
   "cell_type": "markdown",
   "id": "05d4d910",
   "metadata": {
    "papermill": {
     "duration": 0.011519,
     "end_time": "2021-08-04T18:23:37.851365",
     "exception": false,
     "start_time": "2021-08-04T18:23:37.839846",
     "status": "completed"
    },
    "tags": []
   },
   "source": [
    "## 1.\n",
    "\n",
    "Complete the body of the following function according to its docstring.\n",
    "\n",
    "HINT: Python has a built-in function `round`."
   ]
  },
  {
   "cell_type": "code",
   "execution_count": 2,
   "id": "014ee926",
   "metadata": {
    "execution": {
     "iopub.execute_input": "2021-08-04T18:23:37.881980Z",
     "iopub.status.busy": "2021-08-04T18:23:37.881144Z",
     "iopub.status.idle": "2021-08-04T18:23:37.885048Z",
     "shell.execute_reply": "2021-08-04T18:23:37.884533Z",
     "shell.execute_reply.started": "2021-08-04T17:21:33.910380Z"
    },
    "papermill": {
     "duration": 0.021833,
     "end_time": "2021-08-04T18:23:37.885179",
     "exception": false,
     "start_time": "2021-08-04T18:23:37.863346",
     "status": "completed"
    },
    "tags": []
   },
   "outputs": [
    {
     "data": {
      "text/plain": [
       "20"
      ]
     },
     "execution_count": 2,
     "metadata": {},
     "output_type": "execute_result"
    }
   ],
   "source": [
    "def round_to_two_places(num):\n",
    "    return round(num,2)\n",
    "\n",
    "# Check your answer\n",
    "round_to_two_places(20)"
   ]
  },
  {
   "cell_type": "code",
   "execution_count": null,
   "id": "0bb87bbd",
   "metadata": {
    "papermill": {
     "duration": 0.011632,
     "end_time": "2021-08-04T18:23:37.908941",
     "exception": false,
     "start_time": "2021-08-04T18:23:37.897309",
     "status": "completed"
    },
    "tags": []
   },
   "outputs": [],
   "source": []
  },
  {
   "cell_type": "code",
   "execution_count": null,
   "id": "aede7d65",
   "metadata": {
    "papermill": {
     "duration": 0.012065,
     "end_time": "2021-08-04T18:23:37.932996",
     "exception": false,
     "start_time": "2021-08-04T18:23:37.920931",
     "status": "completed"
    },
    "tags": []
   },
   "outputs": [],
   "source": []
  },
  {
   "cell_type": "code",
   "execution_count": 3,
   "id": "d6e1d329",
   "metadata": {
    "execution": {
     "iopub.execute_input": "2021-08-04T18:23:37.962144Z",
     "iopub.status.busy": "2021-08-04T18:23:37.961495Z",
     "iopub.status.idle": "2021-08-04T18:23:37.970828Z",
     "shell.execute_reply": "2021-08-04T18:23:37.970210Z",
     "shell.execute_reply.started": "2021-08-04T17:21:45.782096Z"
    },
    "papermill": {
     "duration": 0.02593,
     "end_time": "2021-08-04T18:23:37.970972",
     "exception": false,
     "start_time": "2021-08-04T18:23:37.945042",
     "status": "completed"
    },
    "tags": []
   },
   "outputs": [
    {
     "data": {
      "application/javascript": [
       "parent.postMessage({\"jupyterEvent\": \"custom.exercise_interaction\", \"data\": {\"interactionType\": 2, \"questionType\": 2, \"questionId\": \"1_RoundFunctionProblem\", \"learnToolsVersion\": \"0.3.4\", \"valueTowardsCompletion\": 0.0, \"failureMessage\": \"\", \"exceptionClass\": \"\", \"trace\": \"\", \"outcomeType\": 4}}, \"*\")"
      ],
      "text/plain": [
       "<IPython.core.display.Javascript object>"
      ]
     },
     "metadata": {},
     "output_type": "display_data"
    },
    {
     "data": {
      "text/markdown": [
       "<span style=\"color:#3366cc\">Hint:</span> Run `help(round)` in the console (or in a code cell) to learn more about the round function. You'll need to use the function's optional second argument."
      ],
      "text/plain": [
       "Hint: Run `help(round)` in the console (or in a code cell) to learn more about the round function. You'll need to use the function's optional second argument."
      ]
     },
     "metadata": {},
     "output_type": "display_data"
    },
    {
     "data": {
      "application/javascript": [
       "parent.postMessage({\"jupyterEvent\": \"custom.exercise_interaction\", \"data\": {\"interactionType\": 3, \"questionType\": 2, \"questionId\": \"1_RoundFunctionProblem\", \"learnToolsVersion\": \"0.3.4\", \"valueTowardsCompletion\": 0.0, \"failureMessage\": \"\", \"exceptionClass\": \"\", \"trace\": \"\", \"outcomeType\": 4}}, \"*\")"
      ],
      "text/plain": [
       "<IPython.core.display.Javascript object>"
      ]
     },
     "metadata": {},
     "output_type": "display_data"
    },
    {
     "data": {
      "text/markdown": [
       "<span style=\"color:#33cc99\">Solution:</span> \n",
       "```python\n",
       "return round(num, 2)\n",
       "```"
      ],
      "text/plain": [
       "Solution: \n",
       "```python\n",
       "return round(num, 2)\n",
       "```"
      ]
     },
     "metadata": {},
     "output_type": "display_data"
    }
   ],
   "source": [
    "# Uncomment the following for a hint\n",
    "q1.hint()\n",
    "# Or uncomment the following to peek at the solution\n",
    "q1.solution()"
   ]
  },
  {
   "cell_type": "code",
   "execution_count": null,
   "id": "c0725ae4",
   "metadata": {
    "papermill": {
     "duration": 0.013708,
     "end_time": "2021-08-04T18:23:37.998729",
     "exception": false,
     "start_time": "2021-08-04T18:23:37.985021",
     "status": "completed"
    },
    "tags": []
   },
   "outputs": [],
   "source": []
  },
  {
   "cell_type": "markdown",
   "id": "b7abcbd7",
   "metadata": {
    "papermill": {
     "duration": 0.013959,
     "end_time": "2021-08-04T18:23:38.026747",
     "exception": false,
     "start_time": "2021-08-04T18:23:38.012788",
     "status": "completed"
    },
    "tags": []
   },
   "source": [
    "## 2.\n",
    "The help for `round` says that `ndigits` (the second argument) may be negative.\n",
    "What do you think will happen when it is? Try some examples in the following cell?\n",
    "\n",
    "Can you think of a case where this would be useful?"
   ]
  },
  {
   "cell_type": "code",
   "execution_count": 4,
   "id": "67558a2b",
   "metadata": {
    "execution": {
     "iopub.execute_input": "2021-08-04T18:23:38.059007Z",
     "iopub.status.busy": "2021-08-04T18:23:38.058122Z",
     "iopub.status.idle": "2021-08-04T18:23:38.112103Z",
     "shell.execute_reply": "2021-08-04T18:23:38.110589Z"
    },
    "papermill": {
     "duration": 0.071973,
     "end_time": "2021-08-04T18:23:38.112385",
     "exception": true,
     "start_time": "2021-08-04T18:23:38.040412",
     "status": "failed"
    },
    "tags": []
   },
   "outputs": [
    {
     "ename": "NameError",
     "evalue": "name 'r' is not defined",
     "output_type": "error",
     "traceback": [
      "\u001b[0;31m---------------------------------------------------------------------------\u001b[0m",
      "\u001b[0;31mNameError\u001b[0m                                 Traceback (most recent call last)",
      "\u001b[0;32m<ipython-input-4-d17ca1acc36c>\u001b[0m in \u001b[0;36m<module>\u001b[0;34m\u001b[0m\n\u001b[0;32m----> 1\u001b[0;31m \u001b[0mr\u001b[0m\u001b[0;34m\u001b[0m\u001b[0;34m\u001b[0m\u001b[0m\n\u001b[0m",
      "\u001b[0;31mNameError\u001b[0m: name 'r' is not defined"
     ]
    }
   ],
   "source": [
    "r"
   ]
  },
  {
   "cell_type": "code",
   "execution_count": null,
   "id": "d25b8e98",
   "metadata": {
    "execution": {
     "iopub.execute_input": "2021-08-04T17:55:09.581827Z",
     "iopub.status.busy": "2021-08-04T17:55:09.580822Z",
     "iopub.status.idle": "2021-08-04T17:55:09.599726Z",
     "shell.execute_reply": "2021-08-04T17:55:09.597901Z",
     "shell.execute_reply.started": "2021-08-04T17:55:09.581736Z"
    },
    "papermill": {
     "duration": null,
     "end_time": null,
     "exception": null,
     "start_time": null,
     "status": "pending"
    },
    "tags": []
   },
   "outputs": [],
   "source": [
    "# Check your answer (Run this code cell to receive credit!)\n",
    "q2.solution()"
   ]
  },
  {
   "cell_type": "markdown",
   "id": "deb11302",
   "metadata": {
    "papermill": {
     "duration": null,
     "end_time": null,
     "exception": null,
     "start_time": null,
     "status": "pending"
    },
    "tags": []
   },
   "source": [
    "## 3.\n",
    "\n",
    "In a previous programming problem, the candy-sharing friends Alice, Bob and Carol tried to split candies evenly. For the sake of their friendship, any candies left over would be smashed. For example, if they collectively bring home 91 candies, they'll take 30 each and smash 1.\n",
    "\n",
    "Below is a simple function that will calculate the number of candies to smash for *any* number of total candies.\n",
    "\n",
    "Modify it so that it optionally takes a second argument representing the number of friends the candies are being split between. If no second argument is provided, it should assume 3 friends, as before.\n",
    "\n",
    "Update the docstring to reflect this new behaviour."
   ]
  },
  {
   "cell_type": "code",
   "execution_count": null,
   "id": "f019757d",
   "metadata": {
    "execution": {
     "iopub.execute_input": "2021-08-04T18:18:20.021168Z",
     "iopub.status.busy": "2021-08-04T18:18:20.020769Z",
     "iopub.status.idle": "2021-08-04T18:18:20.031698Z",
     "shell.execute_reply": "2021-08-04T18:18:20.030951Z",
     "shell.execute_reply.started": "2021-08-04T18:18:20.021133Z"
    },
    "papermill": {
     "duration": null,
     "end_time": null,
     "exception": null,
     "start_time": null,
     "status": "pending"
    },
    "tags": []
   },
   "outputs": [],
   "source": [
    "def to_smash(total_candies,num=3):\n",
    "    \"\"\"Return the number of leftover candies that must be smashed after distributing\n",
    "    the given number of candies evenly between 3 friends.\n",
    "    \n",
    "    >>> to_smash(91)\n",
    "    1\n",
    "    \"\"\"\n",
    "    return total_candies % num\n",
    "\n",
    "# Check your answer\n",
    "q3.check()"
   ]
  },
  {
   "cell_type": "code",
   "execution_count": null,
   "id": "17ca011c",
   "metadata": {
    "papermill": {
     "duration": null,
     "end_time": null,
     "exception": null,
     "start_time": null,
     "status": "pending"
    },
    "tags": []
   },
   "outputs": [],
   "source": [
    "#q3.hint()"
   ]
  },
  {
   "cell_type": "code",
   "execution_count": null,
   "id": "d9bc6589",
   "metadata": {
    "papermill": {
     "duration": null,
     "end_time": null,
     "exception": null,
     "start_time": null,
     "status": "pending"
    },
    "tags": []
   },
   "outputs": [],
   "source": [
    "#q3.solution()"
   ]
  },
  {
   "cell_type": "markdown",
   "id": "58795a68",
   "metadata": {
    "papermill": {
     "duration": null,
     "end_time": null,
     "exception": null,
     "start_time": null,
     "status": "pending"
    },
    "tags": []
   },
   "source": [
    "## 4. (Optional)\n",
    "\n",
    "It may not be fun, but reading and understanding error messages will be an important part of your Python career.\n",
    "\n",
    "Each code cell below contains some commented-out buggy code. For each cell...\n",
    "\n",
    "1. Read the code and predict what you think will happen when it's run.\n",
    "2. Then uncomment the code and run it to see what happens. (**Tip**: In the kernel editor, you can highlight several lines and press `ctrl`+`/` to toggle commenting.)\n",
    "3. Fix the code (so that it accomplishes its intended purpose without throwing an exception)\n",
    "\n",
    "<!-- TODO: should this be autochecked? Delta is probably pretty small. -->"
   ]
  },
  {
   "cell_type": "code",
   "execution_count": null,
   "id": "4353e8d9",
   "metadata": {
    "execution": {
     "iopub.execute_input": "2021-08-04T18:20:16.854587Z",
     "iopub.status.busy": "2021-08-04T18:20:16.854146Z",
     "iopub.status.idle": "2021-08-04T18:20:16.859169Z",
     "shell.execute_reply": "2021-08-04T18:20:16.858395Z",
     "shell.execute_reply.started": "2021-08-04T18:20:16.854549Z"
    },
    "papermill": {
     "duration": null,
     "end_time": null,
     "exception": null,
     "start_time": null,
     "status": "pending"
    },
    "tags": []
   },
   "outputs": [],
   "source": [
    " def ruound_to_two_places(num=9.9999):\n",
    "        return round(num,2)"
   ]
  },
  {
   "cell_type": "code",
   "execution_count": null,
   "id": "525bd604",
   "metadata": {
    "execution": {
     "iopub.execute_input": "2021-08-04T18:19:54.428040Z",
     "iopub.status.busy": "2021-08-04T18:19:54.427703Z",
     "iopub.status.idle": "2021-08-04T18:19:54.432182Z",
     "shell.execute_reply": "2021-08-04T18:19:54.431334Z",
     "shell.execute_reply.started": "2021-08-04T18:19:54.428011Z"
    },
    "papermill": {
     "duration": null,
     "end_time": null,
     "exception": null,
     "start_time": null,
     "status": "pending"
    },
    "tags": []
   },
   "outputs": [],
   "source": [
    "x = -10\n",
    "y = 5\n",
    "# # Which of the two variables above has the smallest absolute value?\n",
    "smallest_abs = min(abs(x), y)"
   ]
  },
  {
   "cell_type": "code",
   "execution_count": null,
   "id": "207899cf",
   "metadata": {
    "execution": {
     "iopub.execute_input": "2021-08-04T18:19:06.575820Z",
     "iopub.status.busy": "2021-08-04T18:19:06.575438Z",
     "iopub.status.idle": "2021-08-04T18:19:06.582115Z",
     "shell.execute_reply": "2021-08-04T18:19:06.580804Z",
     "shell.execute_reply.started": "2021-08-04T18:19:06.575781Z"
    },
    "papermill": {
     "duration": null,
     "end_time": null,
     "exception": null,
     "start_time": null,
     "status": "pending"
    },
    "tags": []
   },
   "outputs": [],
   "source": [
    "def f(x):\n",
    "    y = abs(x)\n",
    "    return y\n",
    "\n",
    "print(f(5))"
   ]
  },
  {
   "cell_type": "markdown",
   "id": "128cf65d",
   "metadata": {
    "papermill": {
     "duration": null,
     "end_time": null,
     "exception": null,
     "start_time": null,
     "status": "pending"
    },
    "tags": []
   },
   "source": [
    "# Keep Going\n",
    "\n",
    "Nice job with the code. Next up, you'll learn about *conditionals*, which you'll need to write interesting programs. Keep going **[here](https://www.kaggle.com/colinmorris/booleans-and-conditionals)**"
   ]
  },
  {
   "cell_type": "markdown",
   "id": "aaee0d70",
   "metadata": {
    "papermill": {
     "duration": null,
     "end_time": null,
     "exception": null,
     "start_time": null,
     "status": "pending"
    },
    "tags": []
   },
   "source": [
    "---\n",
    "\n",
    "\n",
    "\n",
    "\n",
    "*Have questions or comments? Visit the [Learn Discussion forum](https://www.kaggle.com/learn-forum/161283) to chat with other Learners.*"
   ]
  }
 ],
 "metadata": {
  "kernelspec": {
   "display_name": "Python 3",
   "language": "python",
   "name": "python3"
  },
  "language_info": {
   "codemirror_mode": {
    "name": "ipython",
    "version": 3
   },
   "file_extension": ".py",
   "mimetype": "text/x-python",
   "name": "python",
   "nbconvert_exporter": "python",
   "pygments_lexer": "ipython3",
   "version": "3.7.10"
  },
  "papermill": {
   "default_parameters": {},
   "duration": 8.711316,
   "end_time": "2021-08-04T18:23:39.417966",
   "environment_variables": {},
   "exception": true,
   "input_path": "__notebook__.ipynb",
   "output_path": "__notebook__.ipynb",
   "parameters": {},
   "start_time": "2021-08-04T18:23:30.706650",
   "version": "2.3.3"
  }
 },
 "nbformat": 4,
 "nbformat_minor": 5
}
