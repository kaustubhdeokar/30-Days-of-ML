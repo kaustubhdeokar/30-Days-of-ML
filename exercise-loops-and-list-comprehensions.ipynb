{
 "cells": [
  {
   "cell_type": "markdown",
   "id": "27634c51",
   "metadata": {
    "papermill": {
     "duration": 0.017278,
     "end_time": "2021-08-05T17:45:11.939383",
     "exception": false,
     "start_time": "2021-08-05T17:45:11.922105",
     "status": "completed"
    },
    "tags": []
   },
   "source": [
    "**This notebook is an exercise in the [Python](https://www.kaggle.com/learn/python) course.  You can reference the tutorial at [this link](https://www.kaggle.com/colinmorris/loops-and-list-comprehensions).**\n",
    "\n",
    "---\n"
   ]
  },
  {
   "cell_type": "markdown",
   "id": "6d0dec8d",
   "metadata": {
    "papermill": {
     "duration": 0.014443,
     "end_time": "2021-08-05T17:45:11.968567",
     "exception": false,
     "start_time": "2021-08-05T17:45:11.954124",
     "status": "completed"
    },
    "tags": []
   },
   "source": [
    "With all you've learned, you can start writing much more interesting programs. See if you can solve the problems below.\n",
    "\n",
    "As always, run the setup code below before working on the questions."
   ]
  },
  {
   "cell_type": "code",
   "execution_count": 1,
   "id": "45e0cf9c",
   "metadata": {
    "execution": {
     "iopub.execute_input": "2021-08-05T17:45:12.007920Z",
     "iopub.status.busy": "2021-08-05T17:45:12.007360Z",
     "iopub.status.idle": "2021-08-05T17:45:12.142324Z",
     "shell.execute_reply": "2021-08-05T17:45:12.141628Z",
     "shell.execute_reply.started": "2021-08-05T17:09:41.308026Z"
    },
    "papermill": {
     "duration": 0.159901,
     "end_time": "2021-08-05T17:45:12.142515",
     "exception": false,
     "start_time": "2021-08-05T17:45:11.982614",
     "status": "completed"
    },
    "tags": []
   },
   "outputs": [
    {
     "name": "stdout",
     "output_type": "stream",
     "text": [
      "Setup complete.\n"
     ]
    }
   ],
   "source": [
    "from learntools.core import binder; binder.bind(globals())\n",
    "from learntools.python.ex5 import *\n",
    "print('Setup complete.')"
   ]
  },
  {
   "cell_type": "markdown",
   "id": "ad1cc340",
   "metadata": {
    "papermill": {
     "duration": 0.014336,
     "end_time": "2021-08-05T17:45:12.171847",
     "exception": false,
     "start_time": "2021-08-05T17:45:12.157511",
     "status": "completed"
    },
    "tags": []
   },
   "source": [
    "# 1.\n",
    "\n",
    "Have you ever felt debugging involved a bit of luck? The following program has a bug. Try to identify the bug and fix it."
   ]
  },
  {
   "cell_type": "code",
   "execution_count": 2,
   "id": "2ea45cf2",
   "metadata": {
    "execution": {
     "iopub.execute_input": "2021-08-05T17:45:12.207074Z",
     "iopub.status.busy": "2021-08-05T17:45:12.206524Z",
     "iopub.status.idle": "2021-08-05T17:45:12.209478Z",
     "shell.execute_reply": "2021-08-05T17:45:12.208995Z",
     "shell.execute_reply.started": "2021-08-05T17:11:49.117682Z"
    },
    "papermill": {
     "duration": 0.022741,
     "end_time": "2021-08-05T17:45:12.209589",
     "exception": false,
     "start_time": "2021-08-05T17:45:12.186848",
     "status": "completed"
    },
    "tags": []
   },
   "outputs": [],
   "source": [
    "def has_lucky_number(nums):\n",
    "    \"\"\"Return whether the given list of numbers is lucky. A lucky list contains\n",
    "    at least one number divisible by 7.\n",
    "    \"\"\"\n",
    "    number_divisible_by_7_found = False\n",
    "    for num in nums:\n",
    "        if num % 7 == 0:\n",
    "            number_divisible_by_7_found = True\n",
    "            break\n",
    "    return number_divisible_by_7_found"
   ]
  },
  {
   "cell_type": "markdown",
   "id": "47acbee1",
   "metadata": {
    "papermill": {
     "duration": 0.014739,
     "end_time": "2021-08-05T17:45:12.239051",
     "exception": false,
     "start_time": "2021-08-05T17:45:12.224312",
     "status": "completed"
    },
    "tags": []
   },
   "source": [
    "Try to identify the bug and fix it in the cell below:"
   ]
  },
  {
   "cell_type": "code",
   "execution_count": 3,
   "id": "b3384f1c",
   "metadata": {
    "execution": {
     "iopub.execute_input": "2021-08-05T17:45:12.275446Z",
     "iopub.status.busy": "2021-08-05T17:45:12.274856Z",
     "iopub.status.idle": "2021-08-05T17:45:12.280763Z",
     "shell.execute_reply": "2021-08-05T17:45:12.280298Z",
     "shell.execute_reply.started": "2021-08-05T17:12:08.127738Z"
    },
    "papermill": {
     "duration": 0.027345,
     "end_time": "2021-08-05T17:45:12.280879",
     "exception": false,
     "start_time": "2021-08-05T17:45:12.253534",
     "status": "completed"
    },
    "tags": []
   },
   "outputs": [
    {
     "data": {
      "application/javascript": [
       "parent.postMessage({\"jupyterEvent\": \"custom.exercise_interaction\", \"data\": {\"outcomeType\": 1, \"valueTowardsCompletion\": 0.25, \"interactionType\": 1, \"questionType\": 2, \"questionId\": \"1_EarlyExitDebugging\", \"learnToolsVersion\": \"0.3.4\", \"failureMessage\": \"\", \"exceptionClass\": \"\", \"trace\": \"\"}}, \"*\")"
      ],
      "text/plain": [
       "<IPython.core.display.Javascript object>"
      ]
     },
     "metadata": {},
     "output_type": "display_data"
    },
    {
     "data": {
      "text/markdown": [
       "<span style=\"color:#33cc33\">Correct:</span> \n",
       "\n",
       "Remember that `return` causes a function to exit immediately. So our original implementation always ran for just one iteration. We can only return `False` if we've looked at every element of the list (and confirmed that none of them are lucky). Though we can return early if the answer is `True`:\n",
       "\n",
       "```python\n",
       "def has_lucky_number(nums):\n",
       "    for num in nums:\n",
       "        if num % 7 == 0:\n",
       "            return True\n",
       "    # We've exhausted the list without finding a lucky number\n",
       "    return False\n",
       "```\n",
       "\n",
       "Here's a one-line version using a list comprehension with Python's `any` function (you can read about what it does by calling `help(any)`):\n",
       "\n",
       "```python\n",
       "def has_lucky_number(nums):\n",
       "    return any([num % 7 == 0 for num in nums])\n",
       "```\n"
      ],
      "text/plain": [
       "Correct: \n",
       "\n",
       "Remember that `return` causes a function to exit immediately. So our original implementation always ran for just one iteration. We can only return `False` if we've looked at every element of the list (and confirmed that none of them are lucky). Though we can return early if the answer is `True`:\n",
       "\n",
       "```python\n",
       "def has_lucky_number(nums):\n",
       "    for num in nums:\n",
       "        if num % 7 == 0:\n",
       "            return True\n",
       "    # We've exhausted the list without finding a lucky number\n",
       "    return False\n",
       "```\n",
       "\n",
       "Here's a one-line version using a list comprehension with Python's `any` function (you can read about what it does by calling `help(any)`):\n",
       "\n",
       "```python\n",
       "def has_lucky_number(nums):\n",
       "    return any([num % 7 == 0 for num in nums])\n",
       "```"
      ]
     },
     "metadata": {},
     "output_type": "display_data"
    }
   ],
   "source": [
    "def has_lucky_number(nums):\n",
    "    \"\"\"Return whether the given list of numbers is lucky. A lucky list contains\n",
    "    at least one number divisible by 7.\n",
    "    \"\"\"\n",
    "    number_divisible_by_7_found = False\n",
    "    for num in nums:\n",
    "        if num % 7 == 0:\n",
    "            number_divisible_by_7_found = True\n",
    "            break\n",
    "    return number_divisible_by_7_found\n",
    "# Check your answer\n",
    "q1.check()"
   ]
  },
  {
   "cell_type": "code",
   "execution_count": 4,
   "id": "289047b9",
   "metadata": {
    "execution": {
     "iopub.execute_input": "2021-08-05T17:45:12.326977Z",
     "iopub.status.busy": "2021-08-05T17:45:12.325145Z",
     "iopub.status.idle": "2021-08-05T17:45:12.327679Z",
     "shell.execute_reply": "2021-08-05T17:45:12.328074Z"
    },
    "papermill": {
     "duration": 0.027993,
     "end_time": "2021-08-05T17:45:12.328261",
     "exception": false,
     "start_time": "2021-08-05T17:45:12.300268",
     "status": "completed"
    },
    "tags": []
   },
   "outputs": [],
   "source": [
    "#q1.hint()\n",
    "#q1.solution()"
   ]
  },
  {
   "cell_type": "markdown",
   "id": "e0092fcc",
   "metadata": {
    "papermill": {
     "duration": 0.015819,
     "end_time": "2021-08-05T17:45:12.360423",
     "exception": false,
     "start_time": "2021-08-05T17:45:12.344604",
     "status": "completed"
    },
    "tags": []
   },
   "source": [
    "# 2.\n",
    "Look at the Python expression below. What do you think we'll get when we run it? When you've made your prediction, uncomment the code and run the cell to see if you were right."
   ]
  },
  {
   "cell_type": "code",
   "execution_count": 5,
   "id": "4a0f44f1",
   "metadata": {
    "execution": {
     "iopub.execute_input": "2021-08-05T17:45:12.400674Z",
     "iopub.status.busy": "2021-08-05T17:45:12.400035Z",
     "iopub.status.idle": "2021-08-05T17:45:12.461975Z",
     "shell.execute_reply": "2021-08-05T17:45:12.460658Z",
     "shell.execute_reply.started": "2021-08-05T17:12:17.407008Z"
    },
    "papermill": {
     "duration": 0.085497,
     "end_time": "2021-08-05T17:45:12.462257",
     "exception": true,
     "start_time": "2021-08-05T17:45:12.376760",
     "status": "failed"
    },
    "tags": []
   },
   "outputs": [
    {
     "ename": "TypeError",
     "evalue": "'>' not supported between instances of 'list' and 'int'",
     "output_type": "error",
     "traceback": [
      "\u001b[0;31m---------------------------------------------------------------------------\u001b[0m",
      "\u001b[0;31mTypeError\u001b[0m                                 Traceback (most recent call last)",
      "\u001b[0;32m<ipython-input-5-6f064fcfe2b9>\u001b[0m in \u001b[0;36m<module>\u001b[0;34m\u001b[0m\n\u001b[0;32m----> 1\u001b[0;31m \u001b[0;34m[\u001b[0m\u001b[0;36m1\u001b[0m\u001b[0;34m,\u001b[0m \u001b[0;36m2\u001b[0m\u001b[0;34m,\u001b[0m \u001b[0;36m3\u001b[0m\u001b[0;34m,\u001b[0m \u001b[0;36m4\u001b[0m\u001b[0;34m]\u001b[0m \u001b[0;34m>\u001b[0m \u001b[0;36m2\u001b[0m\u001b[0;34m\u001b[0m\u001b[0;34m\u001b[0m\u001b[0m\n\u001b[0m",
      "\u001b[0;31mTypeError\u001b[0m: '>' not supported between instances of 'list' and 'int'"
     ]
    }
   ],
   "source": [
    "[1, 2, 3, 4] > 2"
   ]
  },
  {
   "cell_type": "markdown",
   "id": "9b0bec09",
   "metadata": {
    "papermill": {
     "duration": null,
     "end_time": null,
     "exception": null,
     "start_time": null,
     "status": "pending"
    },
    "tags": []
   },
   "source": [
    "R and Python have some libraries (like numpy and pandas) compare each element of the list to 2 (i.e. do an 'element-wise' comparison) and give us a list of booleans like `[False, False, True, True]`. \n",
    "\n",
    "Implement a function that reproduces this behaviour, returning a list of booleans corresponding to whether the corresponding element is greater than n."
   ]
  },
  {
   "cell_type": "code",
   "execution_count": null,
   "id": "d70577d2",
   "metadata": {
    "execution": {
     "iopub.execute_input": "2021-08-05T17:35:25.177043Z",
     "iopub.status.busy": "2021-08-05T17:35:25.176509Z",
     "iopub.status.idle": "2021-08-05T17:35:25.185448Z",
     "shell.execute_reply": "2021-08-05T17:35:25.184494Z",
     "shell.execute_reply.started": "2021-08-05T17:35:25.177010Z"
    },
    "papermill": {
     "duration": null,
     "end_time": null,
     "exception": null,
     "start_time": null,
     "status": "pending"
    },
    "tags": []
   },
   "outputs": [],
   "source": [
    "def elementwise_greater_than(L, thresh):\n",
    "    \"\"\"Return a list with the same length as L, where the value at index i is \n",
    "    True if L[i] is greater than thresh, and False otherwise.\n",
    "    \n",
    "    >>> elementwise_greater_than([1, 2, 3, 4], 2)\n",
    "    [False, False, True, True]\n",
    "    \"\"\"\n",
    "    ans=[]\n",
    "    for i in L:\n",
    "        if(i<=thresh):\n",
    "            ans.append(False)\n",
    "        else:\n",
    "            ans.append(True)\n",
    "    return ans\n",
    "\n",
    "# Check your answer\n",
    "q2.check()"
   ]
  },
  {
   "cell_type": "code",
   "execution_count": null,
   "id": "b558c1ab",
   "metadata": {
    "papermill": {
     "duration": null,
     "end_time": null,
     "exception": null,
     "start_time": null,
     "status": "pending"
    },
    "tags": []
   },
   "outputs": [],
   "source": [
    "#q2.solution()"
   ]
  },
  {
   "cell_type": "markdown",
   "id": "bbc19627",
   "metadata": {
    "papermill": {
     "duration": null,
     "end_time": null,
     "exception": null,
     "start_time": null,
     "status": "pending"
    },
    "tags": []
   },
   "source": [
    "# 3.\n",
    "\n",
    "Complete the body of the function below according to its docstring."
   ]
  },
  {
   "cell_type": "code",
   "execution_count": null,
   "id": "2dd21e1d",
   "metadata": {
    "execution": {
     "iopub.execute_input": "2021-08-05T17:39:48.349456Z",
     "iopub.status.busy": "2021-08-05T17:39:48.349001Z",
     "iopub.status.idle": "2021-08-05T17:39:48.356549Z",
     "shell.execute_reply": "2021-08-05T17:39:48.355954Z",
     "shell.execute_reply.started": "2021-08-05T17:39:48.349426Z"
    },
    "papermill": {
     "duration": null,
     "end_time": null,
     "exception": null,
     "start_time": null,
     "status": "pending"
    },
    "tags": []
   },
   "outputs": [],
   "source": [
    "def menu_is_boring(meals):\n",
    "    \"\"\"Given a list of meals served over some period of time, return True if the\n",
    "    same meal has ever been served two days in a row, and False otherwise.\n",
    "    \"\"\"\n",
    "    for i in range(0,len(meals)-1):\n",
    "        if(meals[i]==meals[i+1]):\n",
    "            return True\n",
    "    return False\n",
    "    pass\n",
    "\n",
    "# Check your answer\n",
    "q3.check()"
   ]
  },
  {
   "cell_type": "code",
   "execution_count": null,
   "id": "8fd8e7b1",
   "metadata": {
    "execution": {
     "iopub.execute_input": "2021-08-05T17:40:01.791175Z",
     "iopub.status.busy": "2021-08-05T17:40:01.790599Z",
     "iopub.status.idle": "2021-08-05T17:40:01.800925Z",
     "shell.execute_reply": "2021-08-05T17:40:01.800027Z",
     "shell.execute_reply.started": "2021-08-05T17:40:01.791140Z"
    },
    "papermill": {
     "duration": null,
     "end_time": null,
     "exception": null,
     "start_time": null,
     "status": "pending"
    },
    "tags": []
   },
   "outputs": [],
   "source": [
    "q3.hint()\n",
    "q3.solution()"
   ]
  },
  {
   "cell_type": "markdown",
   "id": "6cf9b7e0",
   "metadata": {
    "papermill": {
     "duration": null,
     "end_time": null,
     "exception": null,
     "start_time": null,
     "status": "pending"
    },
    "tags": []
   },
   "source": [
    "# 4. <span title=\"A bit spicy\" style=\"color: darkgreen \">🌶️</span>\n",
    "\n",
    "Next to the Blackjack table, the Python Challenge Casino has a slot machine. You can get a result from the slot machine by calling `play_slot_machine()`. The number it returns is your winnings in dollars. Usually it returns 0.  But sometimes you'll get lucky and get a big payday. Try running it below:"
   ]
  },
  {
   "cell_type": "code",
   "execution_count": null,
   "id": "75ff5336",
   "metadata": {
    "execution": {
     "iopub.execute_input": "2021-08-05T17:40:14.011107Z",
     "iopub.status.busy": "2021-08-05T17:40:14.010497Z",
     "iopub.status.idle": "2021-08-05T17:40:14.016365Z",
     "shell.execute_reply": "2021-08-05T17:40:14.015549Z",
     "shell.execute_reply.started": "2021-08-05T17:40:14.011069Z"
    },
    "papermill": {
     "duration": null,
     "end_time": null,
     "exception": null,
     "start_time": null,
     "status": "pending"
    },
    "tags": []
   },
   "outputs": [],
   "source": [
    "play_slot_machine()"
   ]
  },
  {
   "cell_type": "markdown",
   "id": "a62b8310",
   "metadata": {
    "papermill": {
     "duration": null,
     "end_time": null,
     "exception": null,
     "start_time": null,
     "status": "pending"
    },
    "tags": []
   },
   "source": [
    "By the way, did we mention that each play costs $1? Don't worry, we'll send you the bill later.\n",
    "\n",
    "On average, how much money can you expect to gain (or lose) every time you play the machine?  The casino keeps it a secret, but you can estimate the average value of each pull using a technique called the **Monte Carlo method**. To estimate the average outcome, we simulate the scenario many times, and return the average result.\n",
    "\n",
    "Complete the following function to calculate the average value per play of the slot machine."
   ]
  },
  {
   "cell_type": "code",
   "execution_count": null,
   "id": "42a559bc",
   "metadata": {
    "execution": {
     "iopub.execute_input": "2021-08-05T17:43:53.978678Z",
     "iopub.status.busy": "2021-08-05T17:43:53.978314Z",
     "iopub.status.idle": "2021-08-05T17:43:53.984262Z",
     "shell.execute_reply": "2021-08-05T17:43:53.983308Z",
     "shell.execute_reply.started": "2021-08-05T17:43:53.978648Z"
    },
    "papermill": {
     "duration": null,
     "end_time": null,
     "exception": null,
     "start_time": null,
     "status": "pending"
    },
    "tags": []
   },
   "outputs": [],
   "source": [
    "total_runs = 0.0 \n",
    "def estimate_average_slot_payout(n_runs):\n",
    "    \"\"\"Run the slot machine n_runs times and return the average net profit per run.\n",
    "    Example calls (note that return value is nondeterministic!):\n",
    "    >>> estimate_average_slot_payout(1)\n",
    "    -1\n",
    "    >>> estimate_average_slot_payout(1)\n",
    "    0.5\n",
    "    \"\"\"\n",
    "    total_runs+=1\n",
    "    return n_runs/total_runs\n",
    "    pass"
   ]
  },
  {
   "cell_type": "markdown",
   "id": "0e702bf6",
   "metadata": {
    "papermill": {
     "duration": null,
     "end_time": null,
     "exception": null,
     "start_time": null,
     "status": "pending"
    },
    "tags": []
   },
   "source": [
    "When you think you know the expected value per spin, run the code cell below to view the solution and get credit for answering the question."
   ]
  },
  {
   "cell_type": "code",
   "execution_count": null,
   "id": "7b24ae57",
   "metadata": {
    "execution": {
     "iopub.execute_input": "2021-08-05T17:43:58.732945Z",
     "iopub.status.busy": "2021-08-05T17:43:58.732589Z",
     "iopub.status.idle": "2021-08-05T17:43:58.739506Z",
     "shell.execute_reply": "2021-08-05T17:43:58.738766Z",
     "shell.execute_reply.started": "2021-08-05T17:43:58.732915Z"
    },
    "papermill": {
     "duration": null,
     "end_time": null,
     "exception": null,
     "start_time": null,
     "status": "pending"
    },
    "tags": []
   },
   "outputs": [],
   "source": [
    "# Check your answer (Run this code cell to receive credit!)\n",
    "q4.solution()"
   ]
  },
  {
   "cell_type": "markdown",
   "id": "21d89672",
   "metadata": {
    "papermill": {
     "duration": null,
     "end_time": null,
     "exception": null,
     "start_time": null,
     "status": "pending"
    },
    "tags": []
   },
   "source": [
    "# Keep Going\n",
    "\n",
    "Many programmers report that dictionaries are their favorite data structure. You'll get to **[learn about them](https://www.kaggle.com/colinmorris/strings-and-dictionaries)** (as well as strings) in the next lesson."
   ]
  },
  {
   "cell_type": "markdown",
   "id": "4614ba80",
   "metadata": {
    "papermill": {
     "duration": null,
     "end_time": null,
     "exception": null,
     "start_time": null,
     "status": "pending"
    },
    "tags": []
   },
   "source": [
    "---\n",
    "\n",
    "\n",
    "\n",
    "\n",
    "*Have questions or comments? Visit the [Learn Discussion forum](https://www.kaggle.com/learn-forum/161283) to chat with other Learners.*"
   ]
  }
 ],
 "metadata": {
  "kernelspec": {
   "display_name": "Python 3",
   "language": "python",
   "name": "python3"
  },
  "language_info": {
   "codemirror_mode": {
    "name": "ipython",
    "version": 3
   },
   "file_extension": ".py",
   "mimetype": "text/x-python",
   "name": "python",
   "nbconvert_exporter": "python",
   "pygments_lexer": "ipython3",
   "version": "3.7.10"
  },
  "papermill": {
   "default_parameters": {},
   "duration": 8.290844,
   "end_time": "2021-08-05T17:45:12.986589",
   "environment_variables": {},
   "exception": true,
   "input_path": "__notebook__.ipynb",
   "output_path": "__notebook__.ipynb",
   "parameters": {},
   "start_time": "2021-08-05T17:45:04.695745",
   "version": "2.3.3"
  }
 },
 "nbformat": 4,
 "nbformat_minor": 5
}
